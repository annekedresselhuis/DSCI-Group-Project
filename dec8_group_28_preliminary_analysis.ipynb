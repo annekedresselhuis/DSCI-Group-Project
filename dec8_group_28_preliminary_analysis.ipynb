{
 "cells": [
  {
   "cell_type": "markdown",
   "metadata": {},
   "source": [
    "**Predicting Artist Gender Using Artwork Size: Exploring Gender Discrimination in the Artistic Profession**\n",
    "\n",
    "DSCI 100 004 Group Project Report\n",
    "\n",
    "Group 28\n",
    "\n",
    "**Anneke Dresselhuis** - 60524006 | **Hesham El Kassem** - 37765682 | **Ariane Huang** - 94730660 | **Elaine Zhou** - 99976417"
   ]
  },
  {
   "cell_type": "markdown",
   "metadata": {},
   "source": [
    "**Introduction** \n",
    "\n",
    "Historical and contemporary artists have made and continue to make artwork using a variety of media including painting, drawing, sculpture, photography, printmaking among others. Throughout history, however, socio-economic inequalties have made it difficult for women-identifying artists to work with certain types of media - particularly those which require a significant amount of space (Bain, 2006) which can be costly. Given that women's artwork has historically taken smaller forms and has been categorized as less significant \"arts and crafts\" rather than grand masterpieces or \"valuable art\" made by men (Thomas, 2020), women artists have experienced and continue to experience disproportionate financial hardships in their creative practices. A recent art exhibition at Vancouver's Contemporary Art Gallery titled, \"The Artist's Studio is Her Bedroom\" alludes to the reality of spatial and financial constraints faced by many women artists today (Contemporary Art Gallery, 2020). \n",
    "\n",
    "Our analysis uses data from New York's Museum of Modern Art (MoMA) and will seek to answer the following question: **given the size of an artwork, what will be the gender of the artist?** This expansive dataset contains metadata on each artwork in MoMA's permanant collection; in this analysis we will be using the variables: \"Gender\" (denoting whether the artist is male or female), \"Height\" (measuring the artwork height in centimeters) and \"Width\" (measuring the artwork width in centimeters).\n",
    "\n",
    "We note that gender in this dataset is constrained to a binary class, although in real life gender is best understood as a existing on a spectrum. Currently, little emperical attention has been given to documenting discrimination in the artistic profession. The results from this analysis could be used to inform public funding iniatives that support women artists' access to studio space, improve their ability to create larger works and ultimately strengthen their financial security. \n",
    "\n",
    "**Sources:**\n",
    "\n",
    "Bain, A. L. (2004). Female artistic identity in place: The studio. Social & Cultural Geography, 5(2), 171–193. https://doi.org/10.1080/14649360410001690204\n",
    "\n",
    "The Artist’s Studio is Her Bedroom. (2020). Contemporary Art Gallery, Vancouver. Retrieved November 8, 2021, from https://www.contemporaryartgallery.ca/exhibitions/the-artists-studio-is-her-bedroom/\n",
    "\n",
    "Thomas, Z. (2020). Introduction: The Arts and Crafts movement, work cultures, and the politics of gender. In Women art workers and the Arts and Crafts movement (1st ed., pp. 1–32). Manchester University Press. https://www.jstor.org/stable/j.ctv11g95mh.5\n",
    "\n",
    "The Museum of Modern Art. (2021). The Museum of Modern Art (MoMA) Collection (Version v1.62) [Data set]. https://doi.org/10.5281/zenodo.4408594"
   ]
  },
  {
   "cell_type": "markdown",
   "metadata": {},
   "source": [
    "**Preliminary Exploratory Data Anlaysis** "
   ]
  },
  {
   "cell_type": "markdown",
   "metadata": {},
   "source": [
    "First of all we loaded the libraries we need for the project."
   ]
  },
  {
   "cell_type": "code",
   "execution_count": 1,
   "metadata": {},
   "outputs": [
    {
     "name": "stderr",
     "output_type": "stream",
     "text": [
      "── \u001b[1mAttaching packages\u001b[22m ─────────────────────────────────────── tidyverse 1.3.0 ──\n",
      "\n",
      "\u001b[32m✔\u001b[39m \u001b[34mggplot2\u001b[39m 3.3.2     \u001b[32m✔\u001b[39m \u001b[34mpurrr  \u001b[39m 0.3.4\n",
      "\u001b[32m✔\u001b[39m \u001b[34mtibble \u001b[39m 3.0.3     \u001b[32m✔\u001b[39m \u001b[34mdplyr  \u001b[39m 1.0.2\n",
      "\u001b[32m✔\u001b[39m \u001b[34mtidyr  \u001b[39m 1.1.2     \u001b[32m✔\u001b[39m \u001b[34mstringr\u001b[39m 1.4.0\n",
      "\u001b[32m✔\u001b[39m \u001b[34mreadr  \u001b[39m 1.3.1     \u001b[32m✔\u001b[39m \u001b[34mforcats\u001b[39m 0.5.0\n",
      "\n",
      "Warning message:\n",
      "“package ‘ggplot2’ was built under R version 4.0.1”\n",
      "Warning message:\n",
      "“package ‘tibble’ was built under R version 4.0.2”\n",
      "Warning message:\n",
      "“package ‘tidyr’ was built under R version 4.0.2”\n",
      "Warning message:\n",
      "“package ‘dplyr’ was built under R version 4.0.2”\n",
      "── \u001b[1mConflicts\u001b[22m ────────────────────────────────────────── tidyverse_conflicts() ──\n",
      "\u001b[31m✖\u001b[39m \u001b[34mdplyr\u001b[39m::\u001b[32mfilter()\u001b[39m masks \u001b[34mstats\u001b[39m::filter()\n",
      "\u001b[31m✖\u001b[39m \u001b[34mdplyr\u001b[39m::\u001b[32mlag()\u001b[39m    masks \u001b[34mstats\u001b[39m::lag()\n",
      "\n",
      "\n",
      "Attaching package: ‘lubridate’\n",
      "\n",
      "\n",
      "The following objects are masked from ‘package:base’:\n",
      "\n",
      "    date, intersect, setdiff, union\n",
      "\n",
      "\n",
      "Warning message:\n",
      "“package ‘tidymodels’ was built under R version 4.0.2”\n",
      "── \u001b[1mAttaching packages\u001b[22m ────────────────────────────────────── tidymodels 0.1.1 ──\n",
      "\n",
      "\u001b[32m✔\u001b[39m \u001b[34mbroom    \u001b[39m 0.7.0      \u001b[32m✔\u001b[39m \u001b[34mrecipes  \u001b[39m 0.1.13\n",
      "\u001b[32m✔\u001b[39m \u001b[34mdials    \u001b[39m 0.0.9      \u001b[32m✔\u001b[39m \u001b[34mrsample  \u001b[39m 0.0.7 \n",
      "\u001b[32m✔\u001b[39m \u001b[34minfer    \u001b[39m 0.5.4      \u001b[32m✔\u001b[39m \u001b[34mtune     \u001b[39m 0.1.1 \n",
      "\u001b[32m✔\u001b[39m \u001b[34mmodeldata\u001b[39m 0.0.2      \u001b[32m✔\u001b[39m \u001b[34mworkflows\u001b[39m 0.2.0 \n",
      "\u001b[32m✔\u001b[39m \u001b[34mparsnip  \u001b[39m 0.1.3      \u001b[32m✔\u001b[39m \u001b[34myardstick\u001b[39m 0.0.7 \n",
      "\n",
      "Warning message:\n",
      "“package ‘broom’ was built under R version 4.0.2”\n",
      "Warning message:\n",
      "“package ‘dials’ was built under R version 4.0.2”\n",
      "Warning message:\n",
      "“package ‘infer’ was built under R version 4.0.3”\n",
      "Warning message:\n",
      "“package ‘modeldata’ was built under R version 4.0.1”\n",
      "Warning message:\n",
      "“package ‘parsnip’ was built under R version 4.0.2”\n",
      "Warning message:\n",
      "“package ‘recipes’ was built under R version 4.0.1”\n",
      "Warning message:\n",
      "“package ‘tune’ was built under R version 4.0.2”\n",
      "Warning message:\n",
      "“package ‘workflows’ was built under R version 4.0.2”\n",
      "Warning message:\n",
      "“package ‘yardstick’ was built under R version 4.0.2”\n",
      "── \u001b[1mConflicts\u001b[22m ───────────────────────────────────────── tidymodels_conflicts() ──\n",
      "\u001b[31m✖\u001b[39m \u001b[34mscales\u001b[39m::\u001b[32mdiscard()\u001b[39m masks \u001b[34mpurrr\u001b[39m::discard()\n",
      "\u001b[31m✖\u001b[39m \u001b[34mdplyr\u001b[39m::\u001b[32mfilter()\u001b[39m   masks \u001b[34mstats\u001b[39m::filter()\n",
      "\u001b[31m✖\u001b[39m \u001b[34mrecipes\u001b[39m::\u001b[32mfixed()\u001b[39m  masks \u001b[34mstringr\u001b[39m::fixed()\n",
      "\u001b[31m✖\u001b[39m \u001b[34mdplyr\u001b[39m::\u001b[32mlag()\u001b[39m      masks \u001b[34mstats\u001b[39m::lag()\n",
      "\u001b[31m✖\u001b[39m \u001b[34myardstick\u001b[39m::\u001b[32mspec()\u001b[39m masks \u001b[34mreadr\u001b[39m::spec()\n",
      "\u001b[31m✖\u001b[39m \u001b[34mrecipes\u001b[39m::\u001b[32mstep()\u001b[39m   masks \u001b[34mstats\u001b[39m::step()\n",
      "\n",
      "Registered S3 method overwritten by 'GGally':\n",
      "  method from   \n",
      "  +.gg   ggplot2\n",
      "\n"
     ]
    }
   ],
   "source": [
    "library(tidyverse)\n",
    "library(lubridate)\n",
    "library(repr)\n",
    "library(tidymodels)\n",
    "library(GGally)\n",
    "set.seed(1234) # to allow for reproducibility "
   ]
  },
  {
   "cell_type": "markdown",
   "metadata": {},
   "source": [
    "We read the data from https://media.githubusercontent.com/media/MuseumofModernArt/collection/master/Artworks.csv\" using `read_csv` function as the columns of the dataset is seperated by commas. \n"
   ]
  },
  {
   "cell_type": "code",
   "execution_count": 2,
   "metadata": {},
   "outputs": [
    {
     "name": "stderr",
     "output_type": "stream",
     "text": [
      "Parsed with column specification:\n",
      "cols(\n",
      "  .default = col_character(),\n",
      "  DateAcquired = \u001b[34mcol_date(format = \"\")\u001b[39m,\n",
      "  ObjectID = \u001b[32mcol_double()\u001b[39m,\n",
      "  `Circumference (cm)` = \u001b[33mcol_logical()\u001b[39m,\n",
      "  `Depth (cm)` = \u001b[32mcol_double()\u001b[39m,\n",
      "  `Diameter (cm)` = \u001b[32mcol_double()\u001b[39m,\n",
      "  `Height (cm)` = \u001b[32mcol_double()\u001b[39m,\n",
      "  `Length (cm)` = \u001b[33mcol_logical()\u001b[39m,\n",
      "  `Weight (kg)` = \u001b[32mcol_double()\u001b[39m,\n",
      "  `Width (cm)` = \u001b[32mcol_double()\u001b[39m,\n",
      "  `Seat Height (cm)` = \u001b[33mcol_logical()\u001b[39m,\n",
      "  `Duration (sec.)` = \u001b[33mcol_logical()\u001b[39m\n",
      ")\n",
      "\n",
      "See spec(...) for full column specifications.\n",
      "\n",
      "Warning message:\n",
      "“2892 parsing failures.\n",
      " row         col           expected actual                                                                                         file\n",
      "1002 Length (cm) 1/0/T/F/TRUE/FALSE  17.8  'https://media.githubusercontent.com/media/MuseumofModernArt/collection/master/Artworks.csv'\n",
      "1003 Length (cm) 1/0/T/F/TRUE/FALSE  19.0  'https://media.githubusercontent.com/media/MuseumofModernArt/collection/master/Artworks.csv'\n",
      "1004 Length (cm) 1/0/T/F/TRUE/FALSE  18.1  'https://media.githubusercontent.com/media/MuseumofModernArt/collection/master/Artworks.csv'\n",
      "1005 Length (cm) 1/0/T/F/TRUE/FALSE  17.78 'https://media.githubusercontent.com/media/MuseumofModernArt/collection/master/Artworks.csv'\n",
      "1007 Length (cm) 1/0/T/F/TRUE/FALSE  17.8  'https://media.githubusercontent.com/media/MuseumofModernArt/collection/master/Artworks.csv'\n",
      ".... ........... .................. ...... ............................................................................................\n",
      "See problems(...) for more details.\n",
      "”\n"
     ]
    },
    {
     "data": {
      "text/html": [
       "<table>\n",
       "<caption>A tibble: 6 × 29</caption>\n",
       "<thead>\n",
       "\t<tr><th scope=col>Title</th><th scope=col>Artist</th><th scope=col>ConstituentID</th><th scope=col>ArtistBio</th><th scope=col>Nationality</th><th scope=col>BeginDate</th><th scope=col>EndDate</th><th scope=col>Gender</th><th scope=col>Date</th><th scope=col>Medium</th><th scope=col>⋯</th><th scope=col>ThumbnailURL</th><th scope=col>Circumference (cm)</th><th scope=col>Depth (cm)</th><th scope=col>Diameter (cm)</th><th scope=col>Height (cm)</th><th scope=col>Length (cm)</th><th scope=col>Weight (kg)</th><th scope=col>Width (cm)</th><th scope=col>Seat Height (cm)</th><th scope=col>Duration (sec.)</th></tr>\n",
       "\t<tr><th scope=col>&lt;chr&gt;</th><th scope=col>&lt;chr&gt;</th><th scope=col>&lt;chr&gt;</th><th scope=col>&lt;chr&gt;</th><th scope=col>&lt;chr&gt;</th><th scope=col>&lt;chr&gt;</th><th scope=col>&lt;chr&gt;</th><th scope=col>&lt;chr&gt;</th><th scope=col>&lt;chr&gt;</th><th scope=col>&lt;chr&gt;</th><th scope=col>⋯</th><th scope=col>&lt;chr&gt;</th><th scope=col>&lt;lgl&gt;</th><th scope=col>&lt;dbl&gt;</th><th scope=col>&lt;dbl&gt;</th><th scope=col>&lt;dbl&gt;</th><th scope=col>&lt;lgl&gt;</th><th scope=col>&lt;dbl&gt;</th><th scope=col>&lt;dbl&gt;</th><th scope=col>&lt;lgl&gt;</th><th scope=col>&lt;lgl&gt;</th></tr>\n",
       "</thead>\n",
       "<tbody>\n",
       "\t<tr><td>Silver Springs, FL                                                    </td><td>Unknown photographer                                     </td><td>8595                  </td><td>NA                                         </td><td>()                      </td><td>(0)              </td><td>(0)              </td><td>()              </td><td>February 1903</td><td>Gelatin silver print                                           </td><td>⋯</td><td>http://www.moma.org/media/W1siZiIsIjQ5MjcyMCJdLFsicCIsImNvbnZlcnQiLCItcmVzaXplIDMwMHgzMDBcdTAwM2UiXV0.jpg?sha=8198120224d3f8dd</td><td>NA</td><td>NA</td><td>NA</td><td> 8.80000</td><td>NA</td><td>NA</td><td>30.00000</td><td>NA</td><td>NA</td></tr>\n",
       "\t<tr><td>Untitled                                                              </td><td>Chesnutt Brothers Studio, Andrew Chesnutt, Lewis Chesnutt</td><td>133005, 133006, 133007</td><td>(American, 1861–1934) (American, 1860–1933)</td><td>() (American) (American)</td><td>(0) (1861) (1860)</td><td>(0) (1934) (1933)</td><td>() (Male) (Male)</td><td>c. 1890      </td><td>Gelatin silver print                                           </td><td>⋯</td><td>http://www.moma.org/media/W1siZiIsIjQ5MjcyMiJdLFsicCIsImNvbnZlcnQiLCItcmVzaXplIDMwMHgzMDBcdTAwM2UiXV0.jpg?sha=868071c597640056</td><td>NA</td><td>NA</td><td>NA</td><td>10.79502</td><td>NA</td><td>NA</td><td>16.51003</td><td>NA</td><td>NA</td></tr>\n",
       "\t<tr><td>Plate (folio 2 verso) from Muscheln und schirme (Shells and Umbrellas)</td><td>Sophie Taeuber-Arp                                       </td><td>5777                  </td><td>(Swiss, 1889–1943)                         </td><td>(Swiss)                 </td><td>(1889)           </td><td>(1943)           </td><td>(Female)        </td><td>1939         </td><td>One from an illustrated book with four line block reproductions</td><td>⋯</td><td>http://www.moma.org/media/W1siZiIsIjQ4NTExNSJdLFsicCIsImNvbnZlcnQiLCItcmVzaXplIDMwMHgzMDBcdTAwM2UiXV0.jpg?sha=0850c50841bddd28</td><td>NA</td><td>NA</td><td>NA</td><td>13.50000</td><td>NA</td><td>NA</td><td>10.00000</td><td>NA</td><td>NA</td></tr>\n",
       "\t<tr><td>Plate (folio 6) from Muscheln und schirme (Shells and Umbrellas)      </td><td>Sophie Taeuber-Arp                                       </td><td>5777                  </td><td>(Swiss, 1889–1943)                         </td><td>(Swiss)                 </td><td>(1889)           </td><td>(1943)           </td><td>(Female)        </td><td>1939         </td><td>One from an illustrated book with four line block reproductions</td><td>⋯</td><td>http://www.moma.org/media/W1siZiIsIjQ4NTExOCJdLFsicCIsImNvbnZlcnQiLCItcmVzaXplIDMwMHgzMDBcdTAwM2UiXV0.jpg?sha=70e2d5d8543da2a6</td><td>NA</td><td>NA</td><td>NA</td><td>13.50000</td><td>NA</td><td>NA</td><td>10.00000</td><td>NA</td><td>NA</td></tr>\n",
       "\t<tr><td>Plate (folio 12) from Muscheln und schirme (Shells and Umbrellas)     </td><td>Sophie Taeuber-Arp                                       </td><td>5777                  </td><td>(Swiss, 1889–1943)                         </td><td>(Swiss)                 </td><td>(1889)           </td><td>(1943)           </td><td>(Female)        </td><td>1939         </td><td>One from an illustrated book with four line block reproductions</td><td>⋯</td><td>http://www.moma.org/media/W1siZiIsIjQ4NTEyMCJdLFsicCIsImNvbnZlcnQiLCItcmVzaXplIDMwMHgzMDBcdTAwM2UiXV0.jpg?sha=72d94323cdc79256</td><td>NA</td><td>NA</td><td>NA</td><td>11.00000</td><td>NA</td><td>NA</td><td>10.00000</td><td>NA</td><td>NA</td></tr>\n",
       "\t<tr><td>Plate (folio 16) from Muscheln und schirme (Shells and Umbrellas)     </td><td>Sophie Taeuber-Arp                                       </td><td>5777                  </td><td>(Swiss, 1889–1943)                         </td><td>(Swiss)                 </td><td>(1889)           </td><td>(1943)           </td><td>(Female)        </td><td>1939         </td><td>One from an illustrated book with four line block reproductions</td><td>⋯</td><td>http://www.moma.org/media/W1siZiIsIjQ4NTEyMSJdLFsicCIsImNvbnZlcnQiLCItcmVzaXplIDMwMHgzMDBcdTAwM2UiXV0.jpg?sha=6fed2330b797a1b8</td><td>NA</td><td>NA</td><td>NA</td><td>13.50000</td><td>NA</td><td>NA</td><td>10.00000</td><td>NA</td><td>NA</td></tr>\n",
       "</tbody>\n",
       "</table>\n"
      ],
      "text/latex": [
       "A tibble: 6 × 29\n",
       "\\begin{tabular}{lllllllllllllllllllll}\n",
       " Title & Artist & ConstituentID & ArtistBio & Nationality & BeginDate & EndDate & Gender & Date & Medium & ⋯ & ThumbnailURL & Circumference (cm) & Depth (cm) & Diameter (cm) & Height (cm) & Length (cm) & Weight (kg) & Width (cm) & Seat Height (cm) & Duration (sec.)\\\\\n",
       " <chr> & <chr> & <chr> & <chr> & <chr> & <chr> & <chr> & <chr> & <chr> & <chr> & ⋯ & <chr> & <lgl> & <dbl> & <dbl> & <dbl> & <lgl> & <dbl> & <dbl> & <lgl> & <lgl>\\\\\n",
       "\\hline\n",
       "\t Silver Springs, FL                                                     & Unknown photographer                                      & 8595                   & NA                                          & ()                       & (0)               & (0)               & ()               & February 1903 & Gelatin silver print                                            & ⋯ & http://www.moma.org/media/W1siZiIsIjQ5MjcyMCJdLFsicCIsImNvbnZlcnQiLCItcmVzaXplIDMwMHgzMDBcdTAwM2UiXV0.jpg?sha=8198120224d3f8dd & NA & NA & NA &  8.80000 & NA & NA & 30.00000 & NA & NA\\\\\n",
       "\t Untitled                                                               & Chesnutt Brothers Studio, Andrew Chesnutt, Lewis Chesnutt & 133005, 133006, 133007 & (American, 1861–1934) (American, 1860–1933) & () (American) (American) & (0) (1861) (1860) & (0) (1934) (1933) & () (Male) (Male) & c. 1890       & Gelatin silver print                                            & ⋯ & http://www.moma.org/media/W1siZiIsIjQ5MjcyMiJdLFsicCIsImNvbnZlcnQiLCItcmVzaXplIDMwMHgzMDBcdTAwM2UiXV0.jpg?sha=868071c597640056 & NA & NA & NA & 10.79502 & NA & NA & 16.51003 & NA & NA\\\\\n",
       "\t Plate (folio 2 verso) from Muscheln und schirme (Shells and Umbrellas) & Sophie Taeuber-Arp                                        & 5777                   & (Swiss, 1889–1943)                          & (Swiss)                  & (1889)            & (1943)            & (Female)         & 1939          & One from an illustrated book with four line block reproductions & ⋯ & http://www.moma.org/media/W1siZiIsIjQ4NTExNSJdLFsicCIsImNvbnZlcnQiLCItcmVzaXplIDMwMHgzMDBcdTAwM2UiXV0.jpg?sha=0850c50841bddd28 & NA & NA & NA & 13.50000 & NA & NA & 10.00000 & NA & NA\\\\\n",
       "\t Plate (folio 6) from Muscheln und schirme (Shells and Umbrellas)       & Sophie Taeuber-Arp                                        & 5777                   & (Swiss, 1889–1943)                          & (Swiss)                  & (1889)            & (1943)            & (Female)         & 1939          & One from an illustrated book with four line block reproductions & ⋯ & http://www.moma.org/media/W1siZiIsIjQ4NTExOCJdLFsicCIsImNvbnZlcnQiLCItcmVzaXplIDMwMHgzMDBcdTAwM2UiXV0.jpg?sha=70e2d5d8543da2a6 & NA & NA & NA & 13.50000 & NA & NA & 10.00000 & NA & NA\\\\\n",
       "\t Plate (folio 12) from Muscheln und schirme (Shells and Umbrellas)      & Sophie Taeuber-Arp                                        & 5777                   & (Swiss, 1889–1943)                          & (Swiss)                  & (1889)            & (1943)            & (Female)         & 1939          & One from an illustrated book with four line block reproductions & ⋯ & http://www.moma.org/media/W1siZiIsIjQ4NTEyMCJdLFsicCIsImNvbnZlcnQiLCItcmVzaXplIDMwMHgzMDBcdTAwM2UiXV0.jpg?sha=72d94323cdc79256 & NA & NA & NA & 11.00000 & NA & NA & 10.00000 & NA & NA\\\\\n",
       "\t Plate (folio 16) from Muscheln und schirme (Shells and Umbrellas)      & Sophie Taeuber-Arp                                        & 5777                   & (Swiss, 1889–1943)                          & (Swiss)                  & (1889)            & (1943)            & (Female)         & 1939          & One from an illustrated book with four line block reproductions & ⋯ & http://www.moma.org/media/W1siZiIsIjQ4NTEyMSJdLFsicCIsImNvbnZlcnQiLCItcmVzaXplIDMwMHgzMDBcdTAwM2UiXV0.jpg?sha=6fed2330b797a1b8 & NA & NA & NA & 13.50000 & NA & NA & 10.00000 & NA & NA\\\\\n",
       "\\end{tabular}\n"
      ],
      "text/markdown": [
       "\n",
       "A tibble: 6 × 29\n",
       "\n",
       "| Title &lt;chr&gt; | Artist &lt;chr&gt; | ConstituentID &lt;chr&gt; | ArtistBio &lt;chr&gt; | Nationality &lt;chr&gt; | BeginDate &lt;chr&gt; | EndDate &lt;chr&gt; | Gender &lt;chr&gt; | Date &lt;chr&gt; | Medium &lt;chr&gt; | ⋯ ⋯ | ThumbnailURL &lt;chr&gt; | Circumference (cm) &lt;lgl&gt; | Depth (cm) &lt;dbl&gt; | Diameter (cm) &lt;dbl&gt; | Height (cm) &lt;dbl&gt; | Length (cm) &lt;lgl&gt; | Weight (kg) &lt;dbl&gt; | Width (cm) &lt;dbl&gt; | Seat Height (cm) &lt;lgl&gt; | Duration (sec.) &lt;lgl&gt; |\n",
       "|---|---|---|---|---|---|---|---|---|---|---|---|---|---|---|---|---|---|---|---|---|\n",
       "| Silver Springs, FL                                                     | Unknown photographer                                      | 8595                   | NA                                          | ()                       | (0)               | (0)               | ()               | February 1903 | Gelatin silver print                                            | ⋯ | http://www.moma.org/media/W1siZiIsIjQ5MjcyMCJdLFsicCIsImNvbnZlcnQiLCItcmVzaXplIDMwMHgzMDBcdTAwM2UiXV0.jpg?sha=8198120224d3f8dd | NA | NA | NA |  8.80000 | NA | NA | 30.00000 | NA | NA |\n",
       "| Untitled                                                               | Chesnutt Brothers Studio, Andrew Chesnutt, Lewis Chesnutt | 133005, 133006, 133007 | (American, 1861–1934) (American, 1860–1933) | () (American) (American) | (0) (1861) (1860) | (0) (1934) (1933) | () (Male) (Male) | c. 1890       | Gelatin silver print                                            | ⋯ | http://www.moma.org/media/W1siZiIsIjQ5MjcyMiJdLFsicCIsImNvbnZlcnQiLCItcmVzaXplIDMwMHgzMDBcdTAwM2UiXV0.jpg?sha=868071c597640056 | NA | NA | NA | 10.79502 | NA | NA | 16.51003 | NA | NA |\n",
       "| Plate (folio 2 verso) from Muscheln und schirme (Shells and Umbrellas) | Sophie Taeuber-Arp                                        | 5777                   | (Swiss, 1889–1943)                          | (Swiss)                  | (1889)            | (1943)            | (Female)         | 1939          | One from an illustrated book with four line block reproductions | ⋯ | http://www.moma.org/media/W1siZiIsIjQ4NTExNSJdLFsicCIsImNvbnZlcnQiLCItcmVzaXplIDMwMHgzMDBcdTAwM2UiXV0.jpg?sha=0850c50841bddd28 | NA | NA | NA | 13.50000 | NA | NA | 10.00000 | NA | NA |\n",
       "| Plate (folio 6) from Muscheln und schirme (Shells and Umbrellas)       | Sophie Taeuber-Arp                                        | 5777                   | (Swiss, 1889–1943)                          | (Swiss)                  | (1889)            | (1943)            | (Female)         | 1939          | One from an illustrated book with four line block reproductions | ⋯ | http://www.moma.org/media/W1siZiIsIjQ4NTExOCJdLFsicCIsImNvbnZlcnQiLCItcmVzaXplIDMwMHgzMDBcdTAwM2UiXV0.jpg?sha=70e2d5d8543da2a6 | NA | NA | NA | 13.50000 | NA | NA | 10.00000 | NA | NA |\n",
       "| Plate (folio 12) from Muscheln und schirme (Shells and Umbrellas)      | Sophie Taeuber-Arp                                        | 5777                   | (Swiss, 1889–1943)                          | (Swiss)                  | (1889)            | (1943)            | (Female)         | 1939          | One from an illustrated book with four line block reproductions | ⋯ | http://www.moma.org/media/W1siZiIsIjQ4NTEyMCJdLFsicCIsImNvbnZlcnQiLCItcmVzaXplIDMwMHgzMDBcdTAwM2UiXV0.jpg?sha=72d94323cdc79256 | NA | NA | NA | 11.00000 | NA | NA | 10.00000 | NA | NA |\n",
       "| Plate (folio 16) from Muscheln und schirme (Shells and Umbrellas)      | Sophie Taeuber-Arp                                        | 5777                   | (Swiss, 1889–1943)                          | (Swiss)                  | (1889)            | (1943)            | (Female)         | 1939          | One from an illustrated book with four line block reproductions | ⋯ | http://www.moma.org/media/W1siZiIsIjQ4NTEyMSJdLFsicCIsImNvbnZlcnQiLCItcmVzaXplIDMwMHgzMDBcdTAwM2UiXV0.jpg?sha=6fed2330b797a1b8 | NA | NA | NA | 13.50000 | NA | NA | 10.00000 | NA | NA |\n",
       "\n"
      ],
      "text/plain": [
       "  Title                                                                 \n",
       "1 Silver Springs, FL                                                    \n",
       "2 Untitled                                                              \n",
       "3 Plate (folio 2 verso) from Muscheln und schirme (Shells and Umbrellas)\n",
       "4 Plate (folio 6) from Muscheln und schirme (Shells and Umbrellas)      \n",
       "5 Plate (folio 12) from Muscheln und schirme (Shells and Umbrellas)     \n",
       "6 Plate (folio 16) from Muscheln und schirme (Shells and Umbrellas)     \n",
       "  Artist                                                   \n",
       "1 Unknown photographer                                     \n",
       "2 Chesnutt Brothers Studio, Andrew Chesnutt, Lewis Chesnutt\n",
       "3 Sophie Taeuber-Arp                                       \n",
       "4 Sophie Taeuber-Arp                                       \n",
       "5 Sophie Taeuber-Arp                                       \n",
       "6 Sophie Taeuber-Arp                                       \n",
       "  ConstituentID          ArtistBio                                  \n",
       "1 8595                   NA                                         \n",
       "2 133005, 133006, 133007 (American, 1861–1934) (American, 1860–1933)\n",
       "3 5777                   (Swiss, 1889–1943)                         \n",
       "4 5777                   (Swiss, 1889–1943)                         \n",
       "5 5777                   (Swiss, 1889–1943)                         \n",
       "6 5777                   (Swiss, 1889–1943)                         \n",
       "  Nationality              BeginDate         EndDate           Gender          \n",
       "1 ()                       (0)               (0)               ()              \n",
       "2 () (American) (American) (0) (1861) (1860) (0) (1934) (1933) () (Male) (Male)\n",
       "3 (Swiss)                  (1889)            (1943)            (Female)        \n",
       "4 (Swiss)                  (1889)            (1943)            (Female)        \n",
       "5 (Swiss)                  (1889)            (1943)            (Female)        \n",
       "6 (Swiss)                  (1889)            (1943)            (Female)        \n",
       "  Date          Medium                                                         \n",
       "1 February 1903 Gelatin silver print                                           \n",
       "2 c. 1890       Gelatin silver print                                           \n",
       "3 1939          One from an illustrated book with four line block reproductions\n",
       "4 1939          One from an illustrated book with four line block reproductions\n",
       "5 1939          One from an illustrated book with four line block reproductions\n",
       "6 1939          One from an illustrated book with four line block reproductions\n",
       "  ⋯\n",
       "1 ⋯\n",
       "2 ⋯\n",
       "3 ⋯\n",
       "4 ⋯\n",
       "5 ⋯\n",
       "6 ⋯\n",
       "  ThumbnailURL                                                                                                                  \n",
       "1 http://www.moma.org/media/W1siZiIsIjQ5MjcyMCJdLFsicCIsImNvbnZlcnQiLCItcmVzaXplIDMwMHgzMDBcdTAwM2UiXV0.jpg?sha=8198120224d3f8dd\n",
       "2 http://www.moma.org/media/W1siZiIsIjQ5MjcyMiJdLFsicCIsImNvbnZlcnQiLCItcmVzaXplIDMwMHgzMDBcdTAwM2UiXV0.jpg?sha=868071c597640056\n",
       "3 http://www.moma.org/media/W1siZiIsIjQ4NTExNSJdLFsicCIsImNvbnZlcnQiLCItcmVzaXplIDMwMHgzMDBcdTAwM2UiXV0.jpg?sha=0850c50841bddd28\n",
       "4 http://www.moma.org/media/W1siZiIsIjQ4NTExOCJdLFsicCIsImNvbnZlcnQiLCItcmVzaXplIDMwMHgzMDBcdTAwM2UiXV0.jpg?sha=70e2d5d8543da2a6\n",
       "5 http://www.moma.org/media/W1siZiIsIjQ4NTEyMCJdLFsicCIsImNvbnZlcnQiLCItcmVzaXplIDMwMHgzMDBcdTAwM2UiXV0.jpg?sha=72d94323cdc79256\n",
       "6 http://www.moma.org/media/W1siZiIsIjQ4NTEyMSJdLFsicCIsImNvbnZlcnQiLCItcmVzaXplIDMwMHgzMDBcdTAwM2UiXV0.jpg?sha=6fed2330b797a1b8\n",
       "  Circumference (cm) Depth (cm) Diameter (cm) Height (cm) Length (cm)\n",
       "1 NA                 NA         NA             8.80000    NA         \n",
       "2 NA                 NA         NA            10.79502    NA         \n",
       "3 NA                 NA         NA            13.50000    NA         \n",
       "4 NA                 NA         NA            13.50000    NA         \n",
       "5 NA                 NA         NA            11.00000    NA         \n",
       "6 NA                 NA         NA            13.50000    NA         \n",
       "  Weight (kg) Width (cm) Seat Height (cm) Duration (sec.)\n",
       "1 NA          30.00000   NA               NA             \n",
       "2 NA          16.51003   NA               NA             \n",
       "3 NA          10.00000   NA               NA             \n",
       "4 NA          10.00000   NA               NA             \n",
       "5 NA          10.00000   NA               NA             \n",
       "6 NA          10.00000   NA               NA             "
      ]
     },
     "metadata": {},
     "output_type": "display_data"
    }
   ],
   "source": [
    "#load dataset\n",
    "artworks <- read_csv(\"https://media.githubusercontent.com/media/MuseumofModernArt/collection/master/Artworks.csv\")\n",
    "\n",
    "#explore a subset of the data: last 6 entries\n",
    "artworks_6 <- tail(artworks, 6)\n",
    "artworks_6"
   ]
  },
  {
   "cell_type": "markdown",
   "metadata": {},
   "source": [
    "Here we tidy the column names in order to avoid the risk of the column Height (cm) being considered as a function \"Height\" with argument \"cm\" in R. By renaming the column names using make.names function we are able to use them directly."
   ]
  },
  {
   "cell_type": "code",
   "execution_count": 3,
   "metadata": {},
   "outputs": [
    {
     "data": {
      "text/html": [
       "<table>\n",
       "<caption>A tibble: 6 × 29</caption>\n",
       "<thead>\n",
       "\t<tr><th scope=col>Title</th><th scope=col>Artist</th><th scope=col>ConstituentID</th><th scope=col>ArtistBio</th><th scope=col>Nationality</th><th scope=col>BeginDate</th><th scope=col>EndDate</th><th scope=col>Gender</th><th scope=col>Date</th><th scope=col>Medium</th><th scope=col>⋯</th><th scope=col>ThumbnailURL</th><th scope=col>Circumference..cm.</th><th scope=col>Depth..cm.</th><th scope=col>Diameter..cm.</th><th scope=col>Height..cm.</th><th scope=col>Length..cm.</th><th scope=col>Weight..kg.</th><th scope=col>Width..cm.</th><th scope=col>Seat.Height..cm.</th><th scope=col>Duration..sec..</th></tr>\n",
       "\t<tr><th scope=col>&lt;chr&gt;</th><th scope=col>&lt;chr&gt;</th><th scope=col>&lt;chr&gt;</th><th scope=col>&lt;chr&gt;</th><th scope=col>&lt;chr&gt;</th><th scope=col>&lt;chr&gt;</th><th scope=col>&lt;chr&gt;</th><th scope=col>&lt;chr&gt;</th><th scope=col>&lt;chr&gt;</th><th scope=col>&lt;chr&gt;</th><th scope=col>⋯</th><th scope=col>&lt;chr&gt;</th><th scope=col>&lt;lgl&gt;</th><th scope=col>&lt;dbl&gt;</th><th scope=col>&lt;dbl&gt;</th><th scope=col>&lt;dbl&gt;</th><th scope=col>&lt;lgl&gt;</th><th scope=col>&lt;dbl&gt;</th><th scope=col>&lt;dbl&gt;</th><th scope=col>&lt;lgl&gt;</th><th scope=col>&lt;lgl&gt;</th></tr>\n",
       "</thead>\n",
       "<tbody>\n",
       "\t<tr><td>Silver Springs, FL                                                    </td><td>Unknown photographer                                     </td><td>8595                  </td><td>NA                                         </td><td>()                      </td><td>(0)              </td><td>(0)              </td><td>()              </td><td>February 1903</td><td>Gelatin silver print                                           </td><td>⋯</td><td>http://www.moma.org/media/W1siZiIsIjQ5MjcyMCJdLFsicCIsImNvbnZlcnQiLCItcmVzaXplIDMwMHgzMDBcdTAwM2UiXV0.jpg?sha=8198120224d3f8dd</td><td>NA</td><td>NA</td><td>NA</td><td> 8.80000</td><td>NA</td><td>NA</td><td>30.00000</td><td>NA</td><td>NA</td></tr>\n",
       "\t<tr><td>Untitled                                                              </td><td>Chesnutt Brothers Studio, Andrew Chesnutt, Lewis Chesnutt</td><td>133005, 133006, 133007</td><td>(American, 1861–1934) (American, 1860–1933)</td><td>() (American) (American)</td><td>(0) (1861) (1860)</td><td>(0) (1934) (1933)</td><td>() (Male) (Male)</td><td>c. 1890      </td><td>Gelatin silver print                                           </td><td>⋯</td><td>http://www.moma.org/media/W1siZiIsIjQ5MjcyMiJdLFsicCIsImNvbnZlcnQiLCItcmVzaXplIDMwMHgzMDBcdTAwM2UiXV0.jpg?sha=868071c597640056</td><td>NA</td><td>NA</td><td>NA</td><td>10.79502</td><td>NA</td><td>NA</td><td>16.51003</td><td>NA</td><td>NA</td></tr>\n",
       "\t<tr><td>Plate (folio 2 verso) from Muscheln und schirme (Shells and Umbrellas)</td><td>Sophie Taeuber-Arp                                       </td><td>5777                  </td><td>(Swiss, 1889–1943)                         </td><td>(Swiss)                 </td><td>(1889)           </td><td>(1943)           </td><td>(Female)        </td><td>1939         </td><td>One from an illustrated book with four line block reproductions</td><td>⋯</td><td>http://www.moma.org/media/W1siZiIsIjQ4NTExNSJdLFsicCIsImNvbnZlcnQiLCItcmVzaXplIDMwMHgzMDBcdTAwM2UiXV0.jpg?sha=0850c50841bddd28</td><td>NA</td><td>NA</td><td>NA</td><td>13.50000</td><td>NA</td><td>NA</td><td>10.00000</td><td>NA</td><td>NA</td></tr>\n",
       "\t<tr><td>Plate (folio 6) from Muscheln und schirme (Shells and Umbrellas)      </td><td>Sophie Taeuber-Arp                                       </td><td>5777                  </td><td>(Swiss, 1889–1943)                         </td><td>(Swiss)                 </td><td>(1889)           </td><td>(1943)           </td><td>(Female)        </td><td>1939         </td><td>One from an illustrated book with four line block reproductions</td><td>⋯</td><td>http://www.moma.org/media/W1siZiIsIjQ4NTExOCJdLFsicCIsImNvbnZlcnQiLCItcmVzaXplIDMwMHgzMDBcdTAwM2UiXV0.jpg?sha=70e2d5d8543da2a6</td><td>NA</td><td>NA</td><td>NA</td><td>13.50000</td><td>NA</td><td>NA</td><td>10.00000</td><td>NA</td><td>NA</td></tr>\n",
       "\t<tr><td>Plate (folio 12) from Muscheln und schirme (Shells and Umbrellas)     </td><td>Sophie Taeuber-Arp                                       </td><td>5777                  </td><td>(Swiss, 1889–1943)                         </td><td>(Swiss)                 </td><td>(1889)           </td><td>(1943)           </td><td>(Female)        </td><td>1939         </td><td>One from an illustrated book with four line block reproductions</td><td>⋯</td><td>http://www.moma.org/media/W1siZiIsIjQ4NTEyMCJdLFsicCIsImNvbnZlcnQiLCItcmVzaXplIDMwMHgzMDBcdTAwM2UiXV0.jpg?sha=72d94323cdc79256</td><td>NA</td><td>NA</td><td>NA</td><td>11.00000</td><td>NA</td><td>NA</td><td>10.00000</td><td>NA</td><td>NA</td></tr>\n",
       "\t<tr><td>Plate (folio 16) from Muscheln und schirme (Shells and Umbrellas)     </td><td>Sophie Taeuber-Arp                                       </td><td>5777                  </td><td>(Swiss, 1889–1943)                         </td><td>(Swiss)                 </td><td>(1889)           </td><td>(1943)           </td><td>(Female)        </td><td>1939         </td><td>One from an illustrated book with four line block reproductions</td><td>⋯</td><td>http://www.moma.org/media/W1siZiIsIjQ4NTEyMSJdLFsicCIsImNvbnZlcnQiLCItcmVzaXplIDMwMHgzMDBcdTAwM2UiXV0.jpg?sha=6fed2330b797a1b8</td><td>NA</td><td>NA</td><td>NA</td><td>13.50000</td><td>NA</td><td>NA</td><td>10.00000</td><td>NA</td><td>NA</td></tr>\n",
       "</tbody>\n",
       "</table>\n"
      ],
      "text/latex": [
       "A tibble: 6 × 29\n",
       "\\begin{tabular}{lllllllllllllllllllll}\n",
       " Title & Artist & ConstituentID & ArtistBio & Nationality & BeginDate & EndDate & Gender & Date & Medium & ⋯ & ThumbnailURL & Circumference..cm. & Depth..cm. & Diameter..cm. & Height..cm. & Length..cm. & Weight..kg. & Width..cm. & Seat.Height..cm. & Duration..sec..\\\\\n",
       " <chr> & <chr> & <chr> & <chr> & <chr> & <chr> & <chr> & <chr> & <chr> & <chr> & ⋯ & <chr> & <lgl> & <dbl> & <dbl> & <dbl> & <lgl> & <dbl> & <dbl> & <lgl> & <lgl>\\\\\n",
       "\\hline\n",
       "\t Silver Springs, FL                                                     & Unknown photographer                                      & 8595                   & NA                                          & ()                       & (0)               & (0)               & ()               & February 1903 & Gelatin silver print                                            & ⋯ & http://www.moma.org/media/W1siZiIsIjQ5MjcyMCJdLFsicCIsImNvbnZlcnQiLCItcmVzaXplIDMwMHgzMDBcdTAwM2UiXV0.jpg?sha=8198120224d3f8dd & NA & NA & NA &  8.80000 & NA & NA & 30.00000 & NA & NA\\\\\n",
       "\t Untitled                                                               & Chesnutt Brothers Studio, Andrew Chesnutt, Lewis Chesnutt & 133005, 133006, 133007 & (American, 1861–1934) (American, 1860–1933) & () (American) (American) & (0) (1861) (1860) & (0) (1934) (1933) & () (Male) (Male) & c. 1890       & Gelatin silver print                                            & ⋯ & http://www.moma.org/media/W1siZiIsIjQ5MjcyMiJdLFsicCIsImNvbnZlcnQiLCItcmVzaXplIDMwMHgzMDBcdTAwM2UiXV0.jpg?sha=868071c597640056 & NA & NA & NA & 10.79502 & NA & NA & 16.51003 & NA & NA\\\\\n",
       "\t Plate (folio 2 verso) from Muscheln und schirme (Shells and Umbrellas) & Sophie Taeuber-Arp                                        & 5777                   & (Swiss, 1889–1943)                          & (Swiss)                  & (1889)            & (1943)            & (Female)         & 1939          & One from an illustrated book with four line block reproductions & ⋯ & http://www.moma.org/media/W1siZiIsIjQ4NTExNSJdLFsicCIsImNvbnZlcnQiLCItcmVzaXplIDMwMHgzMDBcdTAwM2UiXV0.jpg?sha=0850c50841bddd28 & NA & NA & NA & 13.50000 & NA & NA & 10.00000 & NA & NA\\\\\n",
       "\t Plate (folio 6) from Muscheln und schirme (Shells and Umbrellas)       & Sophie Taeuber-Arp                                        & 5777                   & (Swiss, 1889–1943)                          & (Swiss)                  & (1889)            & (1943)            & (Female)         & 1939          & One from an illustrated book with four line block reproductions & ⋯ & http://www.moma.org/media/W1siZiIsIjQ4NTExOCJdLFsicCIsImNvbnZlcnQiLCItcmVzaXplIDMwMHgzMDBcdTAwM2UiXV0.jpg?sha=70e2d5d8543da2a6 & NA & NA & NA & 13.50000 & NA & NA & 10.00000 & NA & NA\\\\\n",
       "\t Plate (folio 12) from Muscheln und schirme (Shells and Umbrellas)      & Sophie Taeuber-Arp                                        & 5777                   & (Swiss, 1889–1943)                          & (Swiss)                  & (1889)            & (1943)            & (Female)         & 1939          & One from an illustrated book with four line block reproductions & ⋯ & http://www.moma.org/media/W1siZiIsIjQ4NTEyMCJdLFsicCIsImNvbnZlcnQiLCItcmVzaXplIDMwMHgzMDBcdTAwM2UiXV0.jpg?sha=72d94323cdc79256 & NA & NA & NA & 11.00000 & NA & NA & 10.00000 & NA & NA\\\\\n",
       "\t Plate (folio 16) from Muscheln und schirme (Shells and Umbrellas)      & Sophie Taeuber-Arp                                        & 5777                   & (Swiss, 1889–1943)                          & (Swiss)                  & (1889)            & (1943)            & (Female)         & 1939          & One from an illustrated book with four line block reproductions & ⋯ & http://www.moma.org/media/W1siZiIsIjQ4NTEyMSJdLFsicCIsImNvbnZlcnQiLCItcmVzaXplIDMwMHgzMDBcdTAwM2UiXV0.jpg?sha=6fed2330b797a1b8 & NA & NA & NA & 13.50000 & NA & NA & 10.00000 & NA & NA\\\\\n",
       "\\end{tabular}\n"
      ],
      "text/markdown": [
       "\n",
       "A tibble: 6 × 29\n",
       "\n",
       "| Title &lt;chr&gt; | Artist &lt;chr&gt; | ConstituentID &lt;chr&gt; | ArtistBio &lt;chr&gt; | Nationality &lt;chr&gt; | BeginDate &lt;chr&gt; | EndDate &lt;chr&gt; | Gender &lt;chr&gt; | Date &lt;chr&gt; | Medium &lt;chr&gt; | ⋯ ⋯ | ThumbnailURL &lt;chr&gt; | Circumference..cm. &lt;lgl&gt; | Depth..cm. &lt;dbl&gt; | Diameter..cm. &lt;dbl&gt; | Height..cm. &lt;dbl&gt; | Length..cm. &lt;lgl&gt; | Weight..kg. &lt;dbl&gt; | Width..cm. &lt;dbl&gt; | Seat.Height..cm. &lt;lgl&gt; | Duration..sec.. &lt;lgl&gt; |\n",
       "|---|---|---|---|---|---|---|---|---|---|---|---|---|---|---|---|---|---|---|---|---|\n",
       "| Silver Springs, FL                                                     | Unknown photographer                                      | 8595                   | NA                                          | ()                       | (0)               | (0)               | ()               | February 1903 | Gelatin silver print                                            | ⋯ | http://www.moma.org/media/W1siZiIsIjQ5MjcyMCJdLFsicCIsImNvbnZlcnQiLCItcmVzaXplIDMwMHgzMDBcdTAwM2UiXV0.jpg?sha=8198120224d3f8dd | NA | NA | NA |  8.80000 | NA | NA | 30.00000 | NA | NA |\n",
       "| Untitled                                                               | Chesnutt Brothers Studio, Andrew Chesnutt, Lewis Chesnutt | 133005, 133006, 133007 | (American, 1861–1934) (American, 1860–1933) | () (American) (American) | (0) (1861) (1860) | (0) (1934) (1933) | () (Male) (Male) | c. 1890       | Gelatin silver print                                            | ⋯ | http://www.moma.org/media/W1siZiIsIjQ5MjcyMiJdLFsicCIsImNvbnZlcnQiLCItcmVzaXplIDMwMHgzMDBcdTAwM2UiXV0.jpg?sha=868071c597640056 | NA | NA | NA | 10.79502 | NA | NA | 16.51003 | NA | NA |\n",
       "| Plate (folio 2 verso) from Muscheln und schirme (Shells and Umbrellas) | Sophie Taeuber-Arp                                        | 5777                   | (Swiss, 1889–1943)                          | (Swiss)                  | (1889)            | (1943)            | (Female)         | 1939          | One from an illustrated book with four line block reproductions | ⋯ | http://www.moma.org/media/W1siZiIsIjQ4NTExNSJdLFsicCIsImNvbnZlcnQiLCItcmVzaXplIDMwMHgzMDBcdTAwM2UiXV0.jpg?sha=0850c50841bddd28 | NA | NA | NA | 13.50000 | NA | NA | 10.00000 | NA | NA |\n",
       "| Plate (folio 6) from Muscheln und schirme (Shells and Umbrellas)       | Sophie Taeuber-Arp                                        | 5777                   | (Swiss, 1889–1943)                          | (Swiss)                  | (1889)            | (1943)            | (Female)         | 1939          | One from an illustrated book with four line block reproductions | ⋯ | http://www.moma.org/media/W1siZiIsIjQ4NTExOCJdLFsicCIsImNvbnZlcnQiLCItcmVzaXplIDMwMHgzMDBcdTAwM2UiXV0.jpg?sha=70e2d5d8543da2a6 | NA | NA | NA | 13.50000 | NA | NA | 10.00000 | NA | NA |\n",
       "| Plate (folio 12) from Muscheln und schirme (Shells and Umbrellas)      | Sophie Taeuber-Arp                                        | 5777                   | (Swiss, 1889–1943)                          | (Swiss)                  | (1889)            | (1943)            | (Female)         | 1939          | One from an illustrated book with four line block reproductions | ⋯ | http://www.moma.org/media/W1siZiIsIjQ4NTEyMCJdLFsicCIsImNvbnZlcnQiLCItcmVzaXplIDMwMHgzMDBcdTAwM2UiXV0.jpg?sha=72d94323cdc79256 | NA | NA | NA | 11.00000 | NA | NA | 10.00000 | NA | NA |\n",
       "| Plate (folio 16) from Muscheln und schirme (Shells and Umbrellas)      | Sophie Taeuber-Arp                                        | 5777                   | (Swiss, 1889–1943)                          | (Swiss)                  | (1889)            | (1943)            | (Female)         | 1939          | One from an illustrated book with four line block reproductions | ⋯ | http://www.moma.org/media/W1siZiIsIjQ4NTEyMSJdLFsicCIsImNvbnZlcnQiLCItcmVzaXplIDMwMHgzMDBcdTAwM2UiXV0.jpg?sha=6fed2330b797a1b8 | NA | NA | NA | 13.50000 | NA | NA | 10.00000 | NA | NA |\n",
       "\n"
      ],
      "text/plain": [
       "  Title                                                                 \n",
       "1 Silver Springs, FL                                                    \n",
       "2 Untitled                                                              \n",
       "3 Plate (folio 2 verso) from Muscheln und schirme (Shells and Umbrellas)\n",
       "4 Plate (folio 6) from Muscheln und schirme (Shells and Umbrellas)      \n",
       "5 Plate (folio 12) from Muscheln und schirme (Shells and Umbrellas)     \n",
       "6 Plate (folio 16) from Muscheln und schirme (Shells and Umbrellas)     \n",
       "  Artist                                                   \n",
       "1 Unknown photographer                                     \n",
       "2 Chesnutt Brothers Studio, Andrew Chesnutt, Lewis Chesnutt\n",
       "3 Sophie Taeuber-Arp                                       \n",
       "4 Sophie Taeuber-Arp                                       \n",
       "5 Sophie Taeuber-Arp                                       \n",
       "6 Sophie Taeuber-Arp                                       \n",
       "  ConstituentID          ArtistBio                                  \n",
       "1 8595                   NA                                         \n",
       "2 133005, 133006, 133007 (American, 1861–1934) (American, 1860–1933)\n",
       "3 5777                   (Swiss, 1889–1943)                         \n",
       "4 5777                   (Swiss, 1889–1943)                         \n",
       "5 5777                   (Swiss, 1889–1943)                         \n",
       "6 5777                   (Swiss, 1889–1943)                         \n",
       "  Nationality              BeginDate         EndDate           Gender          \n",
       "1 ()                       (0)               (0)               ()              \n",
       "2 () (American) (American) (0) (1861) (1860) (0) (1934) (1933) () (Male) (Male)\n",
       "3 (Swiss)                  (1889)            (1943)            (Female)        \n",
       "4 (Swiss)                  (1889)            (1943)            (Female)        \n",
       "5 (Swiss)                  (1889)            (1943)            (Female)        \n",
       "6 (Swiss)                  (1889)            (1943)            (Female)        \n",
       "  Date          Medium                                                         \n",
       "1 February 1903 Gelatin silver print                                           \n",
       "2 c. 1890       Gelatin silver print                                           \n",
       "3 1939          One from an illustrated book with four line block reproductions\n",
       "4 1939          One from an illustrated book with four line block reproductions\n",
       "5 1939          One from an illustrated book with four line block reproductions\n",
       "6 1939          One from an illustrated book with four line block reproductions\n",
       "  ⋯\n",
       "1 ⋯\n",
       "2 ⋯\n",
       "3 ⋯\n",
       "4 ⋯\n",
       "5 ⋯\n",
       "6 ⋯\n",
       "  ThumbnailURL                                                                                                                  \n",
       "1 http://www.moma.org/media/W1siZiIsIjQ5MjcyMCJdLFsicCIsImNvbnZlcnQiLCItcmVzaXplIDMwMHgzMDBcdTAwM2UiXV0.jpg?sha=8198120224d3f8dd\n",
       "2 http://www.moma.org/media/W1siZiIsIjQ5MjcyMiJdLFsicCIsImNvbnZlcnQiLCItcmVzaXplIDMwMHgzMDBcdTAwM2UiXV0.jpg?sha=868071c597640056\n",
       "3 http://www.moma.org/media/W1siZiIsIjQ4NTExNSJdLFsicCIsImNvbnZlcnQiLCItcmVzaXplIDMwMHgzMDBcdTAwM2UiXV0.jpg?sha=0850c50841bddd28\n",
       "4 http://www.moma.org/media/W1siZiIsIjQ4NTExOCJdLFsicCIsImNvbnZlcnQiLCItcmVzaXplIDMwMHgzMDBcdTAwM2UiXV0.jpg?sha=70e2d5d8543da2a6\n",
       "5 http://www.moma.org/media/W1siZiIsIjQ4NTEyMCJdLFsicCIsImNvbnZlcnQiLCItcmVzaXplIDMwMHgzMDBcdTAwM2UiXV0.jpg?sha=72d94323cdc79256\n",
       "6 http://www.moma.org/media/W1siZiIsIjQ4NTEyMSJdLFsicCIsImNvbnZlcnQiLCItcmVzaXplIDMwMHgzMDBcdTAwM2UiXV0.jpg?sha=6fed2330b797a1b8\n",
       "  Circumference..cm. Depth..cm. Diameter..cm. Height..cm. Length..cm.\n",
       "1 NA                 NA         NA             8.80000    NA         \n",
       "2 NA                 NA         NA            10.79502    NA         \n",
       "3 NA                 NA         NA            13.50000    NA         \n",
       "4 NA                 NA         NA            13.50000    NA         \n",
       "5 NA                 NA         NA            11.00000    NA         \n",
       "6 NA                 NA         NA            13.50000    NA         \n",
       "  Weight..kg. Width..cm. Seat.Height..cm. Duration..sec..\n",
       "1 NA          30.00000   NA               NA             \n",
       "2 NA          16.51003   NA               NA             \n",
       "3 NA          10.00000   NA               NA             \n",
       "4 NA          10.00000   NA               NA             \n",
       "5 NA          10.00000   NA               NA             \n",
       "6 NA          10.00000   NA               NA             "
      ]
     },
     "metadata": {},
     "output_type": "display_data"
    }
   ],
   "source": [
    "#tidy column names\n",
    "colnames(artworks) <- make.names(colnames(artworks), unique = TRUE)\n",
    "artworks_6 <- tail(artworks, 6)\n",
    "artworks_6"
   ]
  },
  {
   "cell_type": "markdown",
   "metadata": {},
   "source": [
    "First we split our data into a training set and a testing set using proportions of 75% and 25% respectively so that there is enough data in both sets to build and assess our model. We will only use the training set to create our model. We will use Width and Height as the two predictors to predict the artists' gender. By using`filter(Gender == \"(Male)\")` and `filter(Gender == \"(Female)\")` we successfully separate our data into two subsets by gender. Since the data is untidy and there are currently 409 categories of genders, the best option is to filter for (Male) and (Female) since extracting every category of gender would be computationally expensive especially and where certain gender categories have few observations, we do not want a small sample size to skew our analysis. For examples, genders with 1-3 oberservations are likely to have a high predictive accuracy, but this would be unrepresentative."
   ]
  },
  {
   "cell_type": "code",
   "execution_count": 4,
   "metadata": {},
   "outputs": [
    {
     "data": {
      "text/html": [
       "<table>\n",
       "<caption>A tibble: 6 × 3</caption>\n",
       "<thead>\n",
       "\t<tr><th scope=col>Height..cm.</th><th scope=col>Width..cm.</th><th scope=col>Gender</th></tr>\n",
       "\t<tr><th scope=col>&lt;dbl&gt;</th><th scope=col>&lt;dbl&gt;</th><th scope=col>&lt;chr&gt;</th></tr>\n",
       "</thead>\n",
       "<tbody>\n",
       "\t<tr><td>10.5</td><td> 8</td><td>(Male)  </td></tr>\n",
       "\t<tr><td>10.5</td><td> 8</td><td>(Male)  </td></tr>\n",
       "\t<tr><td>13.5</td><td>10</td><td>(Female)</td></tr>\n",
       "\t<tr><td>13.5</td><td>10</td><td>(Female)</td></tr>\n",
       "\t<tr><td>11.0</td><td>10</td><td>(Female)</td></tr>\n",
       "\t<tr><td>13.5</td><td>10</td><td>(Female)</td></tr>\n",
       "</tbody>\n",
       "</table>\n"
      ],
      "text/latex": [
       "A tibble: 6 × 3\n",
       "\\begin{tabular}{lll}\n",
       " Height..cm. & Width..cm. & Gender\\\\\n",
       " <dbl> & <dbl> & <chr>\\\\\n",
       "\\hline\n",
       "\t 10.5 &  8 & (Male)  \\\\\n",
       "\t 10.5 &  8 & (Male)  \\\\\n",
       "\t 13.5 & 10 & (Female)\\\\\n",
       "\t 13.5 & 10 & (Female)\\\\\n",
       "\t 11.0 & 10 & (Female)\\\\\n",
       "\t 13.5 & 10 & (Female)\\\\\n",
       "\\end{tabular}\n"
      ],
      "text/markdown": [
       "\n",
       "A tibble: 6 × 3\n",
       "\n",
       "| Height..cm. &lt;dbl&gt; | Width..cm. &lt;dbl&gt; | Gender &lt;chr&gt; |\n",
       "|---|---|---|\n",
       "| 10.5 |  8 | (Male)   |\n",
       "| 10.5 |  8 | (Male)   |\n",
       "| 13.5 | 10 | (Female) |\n",
       "| 13.5 | 10 | (Female) |\n",
       "| 11.0 | 10 | (Female) |\n",
       "| 13.5 | 10 | (Female) |\n",
       "\n"
      ],
      "text/plain": [
       "  Height..cm. Width..cm. Gender  \n",
       "1 10.5         8         (Male)  \n",
       "2 10.5         8         (Male)  \n",
       "3 13.5        10         (Female)\n",
       "4 13.5        10         (Female)\n",
       "5 11.0        10         (Female)\n",
       "6 13.5        10         (Female)"
      ]
     },
     "metadata": {},
     "output_type": "display_data"
    }
   ],
   "source": [
    "#select relevant columns\n",
    "artworks_selected <- artworks %>%\n",
    "                     select(Height..cm., Width..cm., Gender)\n",
    "\n",
    "#filter for male and female only. Remove N/As and 0s\n",
    "artworks_filter <- artworks_selected %>%\n",
    "                    filter(Gender == \"(Male)\" | Gender == \"(Female)\") %>%\n",
    "                    filter(Height..cm. != \"NA\") %>%\n",
    "                        filter(Width..cm. != \"NA\") %>%\n",
    "                        filter(Width..cm. != 0) %>%\n",
    "                        filter(Height..cm. != 0)\n",
    "tail(artworks_filter,6)"
   ]
  },
  {
   "cell_type": "markdown",
   "metadata": {},
   "source": [
    "Below, we create a balanced and random sample of 1200 male and 1200 female artists. The original dataset at a male to femal ratio of 6:1, which would skew our analysis and over represent male artwork in the model. To mitigate that, we create an equal amount of male and female artworks."
   ]
  },
  {
   "cell_type": "code",
   "execution_count": 5,
   "metadata": {},
   "outputs": [
    {
     "data": {
      "text/html": [
       "<table>\n",
       "<caption>A tibble: 6 × 3</caption>\n",
       "<thead>\n",
       "\t<tr><th scope=col>Height..cm.</th><th scope=col>Width..cm.</th><th scope=col>Gender</th></tr>\n",
       "\t<tr><th scope=col>&lt;dbl&gt;</th><th scope=col>&lt;dbl&gt;</th><th scope=col>&lt;chr&gt;</th></tr>\n",
       "</thead>\n",
       "<tbody>\n",
       "\t<tr><td>34.20000</td><td>22.20000</td><td>(Male)</td></tr>\n",
       "\t<tr><td>24.76505</td><td>17.78004</td><td>(Male)</td></tr>\n",
       "\t<tr><td> 3.10000</td><td> 3.10000</td><td>(Male)</td></tr>\n",
       "\t<tr><td>35.56010</td><td>21.43130</td><td>(Male)</td></tr>\n",
       "\t<tr><td>23.80000</td><td>17.70000</td><td>(Male)</td></tr>\n",
       "\t<tr><td>29.50000</td><td>45.60000</td><td>(Male)</td></tr>\n",
       "</tbody>\n",
       "</table>\n"
      ],
      "text/latex": [
       "A tibble: 6 × 3\n",
       "\\begin{tabular}{lll}\n",
       " Height..cm. & Width..cm. & Gender\\\\\n",
       " <dbl> & <dbl> & <chr>\\\\\n",
       "\\hline\n",
       "\t 34.20000 & 22.20000 & (Male)\\\\\n",
       "\t 24.76505 & 17.78004 & (Male)\\\\\n",
       "\t  3.10000 &  3.10000 & (Male)\\\\\n",
       "\t 35.56010 & 21.43130 & (Male)\\\\\n",
       "\t 23.80000 & 17.70000 & (Male)\\\\\n",
       "\t 29.50000 & 45.60000 & (Male)\\\\\n",
       "\\end{tabular}\n"
      ],
      "text/markdown": [
       "\n",
       "A tibble: 6 × 3\n",
       "\n",
       "| Height..cm. &lt;dbl&gt; | Width..cm. &lt;dbl&gt; | Gender &lt;chr&gt; |\n",
       "|---|---|---|\n",
       "| 34.20000 | 22.20000 | (Male) |\n",
       "| 24.76505 | 17.78004 | (Male) |\n",
       "|  3.10000 |  3.10000 | (Male) |\n",
       "| 35.56010 | 21.43130 | (Male) |\n",
       "| 23.80000 | 17.70000 | (Male) |\n",
       "| 29.50000 | 45.60000 | (Male) |\n",
       "\n"
      ],
      "text/plain": [
       "  Height..cm. Width..cm. Gender\n",
       "1 34.20000    22.20000   (Male)\n",
       "2 24.76505    17.78004   (Male)\n",
       "3  3.10000     3.10000   (Male)\n",
       "4 35.56010    21.43130   (Male)\n",
       "5 23.80000    17.70000   (Male)\n",
       "6 29.50000    45.60000   (Male)"
      ]
     },
     "metadata": {},
     "output_type": "display_data"
    },
    {
     "data": {
      "text/html": [
       "1200"
      ],
      "text/latex": [
       "1200"
      ],
      "text/markdown": [
       "1200"
      ],
      "text/plain": [
       "[1] 1200"
      ]
     },
     "metadata": {},
     "output_type": "display_data"
    },
    {
     "data": {
      "text/html": [
       "<table>\n",
       "<caption>A tibble: 6 × 3</caption>\n",
       "<thead>\n",
       "\t<tr><th scope=col>Height..cm.</th><th scope=col>Width..cm.</th><th scope=col>Gender</th></tr>\n",
       "\t<tr><th scope=col>&lt;dbl&gt;</th><th scope=col>&lt;dbl&gt;</th><th scope=col>&lt;chr&gt;</th></tr>\n",
       "</thead>\n",
       "<tbody>\n",
       "\t<tr><td>35.00000</td><td>24.50000</td><td>(Female)</td></tr>\n",
       "\t<tr><td>42.50000</td><td>27.50000</td><td>(Female)</td></tr>\n",
       "\t<tr><td>15.24003</td><td>22.86005</td><td>(Female)</td></tr>\n",
       "\t<tr><td>30.48006</td><td>45.72009</td><td>(Female)</td></tr>\n",
       "\t<tr><td>79.37516</td><td>65.40513</td><td>(Female)</td></tr>\n",
       "\t<tr><td>25.20000</td><td>30.20000</td><td>(Female)</td></tr>\n",
       "</tbody>\n",
       "</table>\n"
      ],
      "text/latex": [
       "A tibble: 6 × 3\n",
       "\\begin{tabular}{lll}\n",
       " Height..cm. & Width..cm. & Gender\\\\\n",
       " <dbl> & <dbl> & <chr>\\\\\n",
       "\\hline\n",
       "\t 35.00000 & 24.50000 & (Female)\\\\\n",
       "\t 42.50000 & 27.50000 & (Female)\\\\\n",
       "\t 15.24003 & 22.86005 & (Female)\\\\\n",
       "\t 30.48006 & 45.72009 & (Female)\\\\\n",
       "\t 79.37516 & 65.40513 & (Female)\\\\\n",
       "\t 25.20000 & 30.20000 & (Female)\\\\\n",
       "\\end{tabular}\n"
      ],
      "text/markdown": [
       "\n",
       "A tibble: 6 × 3\n",
       "\n",
       "| Height..cm. &lt;dbl&gt; | Width..cm. &lt;dbl&gt; | Gender &lt;chr&gt; |\n",
       "|---|---|---|\n",
       "| 35.00000 | 24.50000 | (Female) |\n",
       "| 42.50000 | 27.50000 | (Female) |\n",
       "| 15.24003 | 22.86005 | (Female) |\n",
       "| 30.48006 | 45.72009 | (Female) |\n",
       "| 79.37516 | 65.40513 | (Female) |\n",
       "| 25.20000 | 30.20000 | (Female) |\n",
       "\n"
      ],
      "text/plain": [
       "  Height..cm. Width..cm. Gender  \n",
       "1 35.00000    24.50000   (Female)\n",
       "2 42.50000    27.50000   (Female)\n",
       "3 15.24003    22.86005   (Female)\n",
       "4 30.48006    45.72009   (Female)\n",
       "5 79.37516    65.40513   (Female)\n",
       "6 25.20000    30.20000   (Female)"
      ]
     },
     "metadata": {},
     "output_type": "display_data"
    },
    {
     "data": {
      "text/html": [
       "1200"
      ],
      "text/latex": [
       "1200"
      ],
      "text/markdown": [
       "1200"
      ],
      "text/plain": [
       "[1] 1200"
      ]
     },
     "metadata": {},
     "output_type": "display_data"
    },
    {
     "data": {
      "text/html": [
       "<table>\n",
       "<caption>A tibble: 6 × 3</caption>\n",
       "<thead>\n",
       "\t<tr><th scope=col>Height..cm.</th><th scope=col>Width..cm.</th><th scope=col>Gender</th></tr>\n",
       "\t<tr><th scope=col>&lt;dbl&gt;</th><th scope=col>&lt;dbl&gt;</th><th scope=col>&lt;chr&gt;</th></tr>\n",
       "</thead>\n",
       "<tbody>\n",
       "\t<tr><td>23.90000</td><td>18.60000</td><td>(Male)  </td></tr>\n",
       "\t<tr><td>40.32258</td><td>29.84506</td><td>(Female)</td></tr>\n",
       "\t<tr><td>22.90000</td><td>34.00000</td><td>(Male)  </td></tr>\n",
       "\t<tr><td>19.10000</td><td>24.10000</td><td>(Female)</td></tr>\n",
       "\t<tr><td>58.80000</td><td>45.60000</td><td>(Male)  </td></tr>\n",
       "\t<tr><td> 1.50000</td><td> 5.80000</td><td>(Female)</td></tr>\n",
       "</tbody>\n",
       "</table>\n"
      ],
      "text/latex": [
       "A tibble: 6 × 3\n",
       "\\begin{tabular}{lll}\n",
       " Height..cm. & Width..cm. & Gender\\\\\n",
       " <dbl> & <dbl> & <chr>\\\\\n",
       "\\hline\n",
       "\t 23.90000 & 18.60000 & (Male)  \\\\\n",
       "\t 40.32258 & 29.84506 & (Female)\\\\\n",
       "\t 22.90000 & 34.00000 & (Male)  \\\\\n",
       "\t 19.10000 & 24.10000 & (Female)\\\\\n",
       "\t 58.80000 & 45.60000 & (Male)  \\\\\n",
       "\t  1.50000 &  5.80000 & (Female)\\\\\n",
       "\\end{tabular}\n"
      ],
      "text/markdown": [
       "\n",
       "A tibble: 6 × 3\n",
       "\n",
       "| Height..cm. &lt;dbl&gt; | Width..cm. &lt;dbl&gt; | Gender &lt;chr&gt; |\n",
       "|---|---|---|\n",
       "| 23.90000 | 18.60000 | (Male)   |\n",
       "| 40.32258 | 29.84506 | (Female) |\n",
       "| 22.90000 | 34.00000 | (Male)   |\n",
       "| 19.10000 | 24.10000 | (Female) |\n",
       "| 58.80000 | 45.60000 | (Male)   |\n",
       "|  1.50000 |  5.80000 | (Female) |\n",
       "\n"
      ],
      "text/plain": [
       "  Height..cm. Width..cm. Gender  \n",
       "1 23.90000    18.60000   (Male)  \n",
       "2 40.32258    29.84506   (Female)\n",
       "3 22.90000    34.00000   (Male)  \n",
       "4 19.10000    24.10000   (Female)\n",
       "5 58.80000    45.60000   (Male)  \n",
       "6  1.50000     5.80000   (Female)"
      ]
     },
     "metadata": {},
     "output_type": "display_data"
    },
    {
     "data": {
      "text/html": [
       "1200"
      ],
      "text/latex": [
       "1200"
      ],
      "text/markdown": [
       "1200"
      ],
      "text/plain": [
       "[1] 1200"
      ]
     },
     "metadata": {},
     "output_type": "display_data"
    }
   ],
   "source": [
    "#filter for (Male) \n",
    "artworks_male <- artworks_filter %>%\n",
    "                 filter(Gender == \"(Male)\")\n",
    "                \n",
    "artworks_male <- sample_n(artworks_male, 1200)\n",
    "artworks_male_6 <- tail(artworks_male, 6)\n",
    "artworks_male_6\n",
    "nrow(artworks_male)\n",
    "\n",
    "#filter for (Female)\n",
    "\n",
    "artworks_female <- artworks_filter %>%\n",
    "                        filter(Gender == \"(Female)\")                        \n",
    "artworks_female <- sample_n(artworks_female, size = 1200)\n",
    "artworks_female_6 <- tail(artworks_female, 6)\n",
    "artworks_female_6 \n",
    "nrow(artworks_female)\n",
    "\n",
    "#bring together\n",
    "artworks_both <- rbind(artworks_male, artworks_female)\n",
    "artworks_both <- sample_n(artworks_both, 1200) %>%\n",
    "                 filter(Height..cm. != \"NA\") %>%\n",
    "                 filter(Width..cm. != \"NA\") %>%\n",
    "                 filter(Width..cm. != 0) %>%\n",
    "                 filter(Height..cm. != 0)\n",
    "artworks_both_6 <- tail(artworks_both, 6)\n",
    "artworks_both_6\n",
    "nrow(artworks_both)\n"
   ]
  },
  {
   "cell_type": "markdown",
   "metadata": {},
   "source": [
    "### Exploratory Analysis \n",
    "In order to prove gender can affect sizes of artworks, we have to show differences in artworks' height and width produced by artists in different gender. We generated coloured plots using ggpairs so that it is easy to contrast and compare the differing data from the two genders."
   ]
  },
  {
   "cell_type": "code",
   "execution_count": 6,
   "metadata": {},
   "outputs": [
    {
     "name": "stderr",
     "output_type": "stream",
     "text": [
      "`stat_bin()` using `bins = 30`. Pick better value with `binwidth`.\n",
      "\n",
      "`stat_bin()` using `bins = 30`. Pick better value with `binwidth`.\n",
      "\n"
     ]
    },
    {
     "data": {
      "image/png": "[encoded data removed]",
      "text/plain": [
       "plot without title"
      ]
     },
     "metadata": {
      "image/png": {
       "height": 540,
       "width": 720
      }
     },
     "output_type": "display_data"
    }
   ],
   "source": [
    "options(repr.plot.height = 9, repr.plot.width = 12) #to improve readability\n",
    "\n",
    "#plot the graphs\n",
    "gender_plot <- artworks_both %>%\n",
    "                   ggpairs(title = \"Figure 1. Height and Width of Artworks by Male and Female Artists\", \n",
    "                   mapping = ggplot2::aes(colour=Gender), \n",
    "                   lower = list(continuous = wrap(\"smooth\", alpha = 0.3, size=0.1)))  +\n",
    "                   labs(\"Height(cm)\", \"Width(cm)\", \"Gender(Female and Male)\") +\n",
    "                   theme_bw() +\n",
    "                   theme(text = element_text(size = 20))\n",
    "gender_plot"
   ]
  },
  {
   "cell_type": "markdown",
   "metadata": {},
   "source": [
    "This plot allows us to see if there are any outliers that may affect accuracy, and here we can see that there are 2 outliers for female which we will remove to improve the accuracy."
   ]
  },
  {
   "cell_type": "code",
   "execution_count": 7,
   "metadata": {},
   "outputs": [
    {
     "data": {
      "text/html": [
       "<table>\n",
       "<caption>A tibble: 6 × 3</caption>\n",
       "<thead>\n",
       "\t<tr><th scope=col>Height..cm.</th><th scope=col>Width..cm.</th><th scope=col>Gender</th></tr>\n",
       "\t<tr><th scope=col>&lt;dbl&gt;</th><th scope=col>&lt;dbl&gt;</th><th scope=col>&lt;chr&gt;</th></tr>\n",
       "</thead>\n",
       "<tbody>\n",
       "\t<tr><td>129.5403</td><td>452.1209</td><td>(Female)</td></tr>\n",
       "\t<tr><td>105.1000</td><td>518.2000</td><td>(Male)  </td></tr>\n",
       "\t<tr><td>195.6000</td><td>548.6000</td><td>(Male)  </td></tr>\n",
       "\t<tr><td>316.2306</td><td>631.1913</td><td>(Male)  </td></tr>\n",
       "\t<tr><td>224.1554</td><td>667.0688</td><td>(Male)  </td></tr>\n",
       "\t<tr><td>200.0254</td><td>800.1016</td><td>(Male)  </td></tr>\n",
       "</tbody>\n",
       "</table>\n"
      ],
      "text/latex": [
       "A tibble: 6 × 3\n",
       "\\begin{tabular}{lll}\n",
       " Height..cm. & Width..cm. & Gender\\\\\n",
       " <dbl> & <dbl> & <chr>\\\\\n",
       "\\hline\n",
       "\t 129.5403 & 452.1209 & (Female)\\\\\n",
       "\t 105.1000 & 518.2000 & (Male)  \\\\\n",
       "\t 195.6000 & 548.6000 & (Male)  \\\\\n",
       "\t 316.2306 & 631.1913 & (Male)  \\\\\n",
       "\t 224.1554 & 667.0688 & (Male)  \\\\\n",
       "\t 200.0254 & 800.1016 & (Male)  \\\\\n",
       "\\end{tabular}\n"
      ],
      "text/markdown": [
       "\n",
       "A tibble: 6 × 3\n",
       "\n",
       "| Height..cm. &lt;dbl&gt; | Width..cm. &lt;dbl&gt; | Gender &lt;chr&gt; |\n",
       "|---|---|---|\n",
       "| 129.5403 | 452.1209 | (Female) |\n",
       "| 105.1000 | 518.2000 | (Male)   |\n",
       "| 195.6000 | 548.6000 | (Male)   |\n",
       "| 316.2306 | 631.1913 | (Male)   |\n",
       "| 224.1554 | 667.0688 | (Male)   |\n",
       "| 200.0254 | 800.1016 | (Male)   |\n",
       "\n"
      ],
      "text/plain": [
       "  Height..cm. Width..cm. Gender  \n",
       "1 129.5403    452.1209   (Female)\n",
       "2 105.1000    518.2000   (Male)  \n",
       "3 195.6000    548.6000   (Male)  \n",
       "4 316.2306    631.1913   (Male)  \n",
       "5 224.1554    667.0688   (Male)  \n",
       "6 200.0254    800.1016   (Male)  "
      ]
     },
     "metadata": {},
     "output_type": "display_data"
    },
    {
     "data": {
      "text/html": [
       "<table>\n",
       "<caption>A tibble: 6 × 3</caption>\n",
       "<thead>\n",
       "\t<tr><th scope=col>Height..cm.</th><th scope=col>Width..cm.</th><th scope=col>Gender</th></tr>\n",
       "\t<tr><th scope=col>&lt;dbl&gt;</th><th scope=col>&lt;dbl&gt;</th><th scope=col>&lt;chr&gt;</th></tr>\n",
       "</thead>\n",
       "<tbody>\n",
       "\t<tr><td>246.3805</td><td>240.0305</td><td>(Female)</td></tr>\n",
       "\t<tr><td>261.5000</td><td>241.2000</td><td>(Female)</td></tr>\n",
       "\t<tr><td>261.6205</td><td>210.8204</td><td>(Female)</td></tr>\n",
       "\t<tr><td>276.9000</td><td>132.1000</td><td>(Female)</td></tr>\n",
       "\t<tr><td>278.8000</td><td>425.2000</td><td>(Male)  </td></tr>\n",
       "\t<tr><td>316.2306</td><td>631.1913</td><td>(Male)  </td></tr>\n",
       "</tbody>\n",
       "</table>\n"
      ],
      "text/latex": [
       "A tibble: 6 × 3\n",
       "\\begin{tabular}{lll}\n",
       " Height..cm. & Width..cm. & Gender\\\\\n",
       " <dbl> & <dbl> & <chr>\\\\\n",
       "\\hline\n",
       "\t 246.3805 & 240.0305 & (Female)\\\\\n",
       "\t 261.5000 & 241.2000 & (Female)\\\\\n",
       "\t 261.6205 & 210.8204 & (Female)\\\\\n",
       "\t 276.9000 & 132.1000 & (Female)\\\\\n",
       "\t 278.8000 & 425.2000 & (Male)  \\\\\n",
       "\t 316.2306 & 631.1913 & (Male)  \\\\\n",
       "\\end{tabular}\n"
      ],
      "text/markdown": [
       "\n",
       "A tibble: 6 × 3\n",
       "\n",
       "| Height..cm. &lt;dbl&gt; | Width..cm. &lt;dbl&gt; | Gender &lt;chr&gt; |\n",
       "|---|---|---|\n",
       "| 246.3805 | 240.0305 | (Female) |\n",
       "| 261.5000 | 241.2000 | (Female) |\n",
       "| 261.6205 | 210.8204 | (Female) |\n",
       "| 276.9000 | 132.1000 | (Female) |\n",
       "| 278.8000 | 425.2000 | (Male)   |\n",
       "| 316.2306 | 631.1913 | (Male)   |\n",
       "\n"
      ],
      "text/plain": [
       "  Height..cm. Width..cm. Gender  \n",
       "1 246.3805    240.0305   (Female)\n",
       "2 261.5000    241.2000   (Female)\n",
       "3 261.6205    210.8204   (Female)\n",
       "4 276.9000    132.1000   (Female)\n",
       "5 278.8000    425.2000   (Male)  \n",
       "6 316.2306    631.1913   (Male)  "
      ]
     },
     "metadata": {},
     "output_type": "display_data"
    }
   ],
   "source": [
    "#remove outliers using slice()\n",
    "artworks_width_revised <- arrange(artworks_both, Width..cm.) %>%\n",
    "                          slice(1:(n()-1))\n",
    "artworks_width_revised_6 <- tail(artworks_width_revised, 6)\n",
    "artworks_width_revised_6\n",
    "artworks_height_revised <- arrange(artworks_width_revised, Height..cm.) %>%\n",
    "                           slice(1:(n()-1))\n",
    "artworks_height_revised_6 <- tail(artworks_height_revised, 6)\n",
    "artworks_height_revised_6"
   ]
  },
  {
   "cell_type": "code",
   "execution_count": 1,
   "metadata": {},
   "outputs": [
    {
     "ename": "ERROR",
     "evalue": "Error in artworks_height_revised %>% ggpairs(title = \"Figure 2: Height/Width of Artworks by Male and Female Artists (Outliers Removed))\", : could not find function \"%>%\"\n",
     "output_type": "error",
     "traceback": [
      "Error in artworks_height_revised %>% ggpairs(title = \"Figure 2: Height/Width of Artworks by Male and Female Artists (Outliers Removed))\", : could not find function \"%>%\"\nTraceback:\n"
     ]
    }
   ],
   "source": [
    "#make plot without outliers\n",
    "options(repr.plot.height = 9, repr.plot.width = 12)\n",
    "gender_plot_revised <- artworks_height_revised %>%\n",
    "                   ggpairs(title = \"Figure 2. Height/Width of Artworks by Male and Female Artists (Outliers Removed))\", \n",
    "                   mapping = ggplot2::aes(colour=Gender), \n",
    "                   lower = list(continuous = wrap(\"smooth\", alpha = 0.3, size=0.1)))  +\n",
    "                   labs(\"Height(cm)\", \"Width(cm)\", \"Gender(Female and Male)\") +\n",
    "                   theme_bw() +\n",
    "                   theme(text = element_text(size = 18))\n",
    "gender_plot_revised"
   ]
  },
  {
   "cell_type": "markdown",
   "metadata": {},
   "source": [
    "After removing outliers, the average width of artworks created by male artists are higher than that of female artists.\n",
    "For the height of artworks, when the height of art is small, artists in both genders have a relatively similar proportion. However, for artworks with a large height, the artists are tend to be female. We then proceed with knn classification (not regression because our expected result is categorical and qualitative). To do this, we need to mutate the Gender data to make it a factor."
   ]
  },
  {
   "cell_type": "code",
   "execution_count": 9,
   "metadata": {},
   "outputs": [
    {
     "data": {
      "text/plain": [
       "Data Recipe\n",
       "\n",
       "Inputs:\n",
       "\n",
       "      role #variables\n",
       "   outcome          1\n",
       " predictor          2\n",
       "\n",
       "Operations:\n",
       "\n",
       "Scaling for all_predictors()\n",
       "Centering for all_predictors()"
      ]
     },
     "metadata": {},
     "output_type": "display_data"
    }
   ],
   "source": [
    "#make Gender a factor\n",
    "artworks_both <- artworks_both %>%\n",
    "                 mutate(Gender = as_factor(Gender))\n",
    "\n",
    "#split the data\n",
    "artworks_split <- initial_split(artworks_both, prop = 0.75, strat = Gender)\n",
    "artworks_training <- training(artworks_split)\n",
    "artworks_testing <- testing(artworks_split)\n",
    "\n",
    "#scale and centre the recipe\n",
    "\n",
    "set.seed(1234)\n",
    "artwork_recipe <- recipe(Gender ~ Height..cm. + Width..cm., data = artworks_both) %>%\n",
    "  step_scale(all_predictors()) %>%\n",
    "  step_center(all_predictors())\n",
    "artwork_recipe "
   ]
  },
  {
   "cell_type": "markdown",
   "metadata": {},
   "source": [
    "### Model Building\n",
    "First, we create the model using 3 neighbors, then we will tune for the best 'K' using cross validation."
   ]
  },
  {
   "cell_type": "code",
   "execution_count": 10,
   "metadata": {},
   "outputs": [
    {
     "data": {
      "text/plain": [
       "K-Nearest Neighbor Model Specification (classification)\n",
       "\n",
       "Main Arguments:\n",
       "  neighbors = 3\n",
       "  weight_func = rectangular\n",
       "\n",
       "Computational engine: kknn \n"
      ]
     },
     "metadata": {},
     "output_type": "display_data"
    },
    {
     "data": {
      "text/plain": [
       "══ Workflow [trained] ══════════════════════════════════════════════════════════\n",
       "\u001b[3mPreprocessor:\u001b[23m Recipe\n",
       "\u001b[3mModel:\u001b[23m nearest_neighbor()\n",
       "\n",
       "── Preprocessor ────────────────────────────────────────────────────────────────\n",
       "2 Recipe Steps\n",
       "\n",
       "● step_scale()\n",
       "● step_center()\n",
       "\n",
       "── Model ───────────────────────────────────────────────────────────────────────\n",
       "\n",
       "Call:\n",
       "kknn::train.kknn(formula = ..y ~ ., data = data, ks = ~3, kernel = ~\"rectangular\")\n",
       "\n",
       "Type of response variable: nominal\n",
       "Minimal misclassification: 0.4533333\n",
       "Best kernel: rectangular\n",
       "Best k: 3"
      ]
     },
     "metadata": {},
     "output_type": "display_data"
    }
   ],
   "source": [
    "set.seed(1234)\n",
    "\n",
    "#create k-nearest neighbor classifier with k=3\n",
    "artwork_spec <- nearest_neighbor(weight_func = \"rectangular\", neighbors = 3) %>%\n",
    "  set_engine(\"kknn\") %>%\n",
    "  set_mode(\"classification\")\n",
    "artwork_spec\n",
    "\n",
    "#fit the model\n",
    "artworks_fit <- workflow() %>%\n",
    "      add_recipe(artwork_recipe) %>%\n",
    "      add_model(artwork_spec) %>%\n",
    "      fit(data = artworks_both)\n",
    "artworks_fit\n",
    "\n"
   ]
  },
  {
   "cell_type": "markdown",
   "metadata": {},
   "source": [
    "### Testing the Model\n",
    "Next, we test and assess the model when the k-nearest neighbors is 3."
   ]
  },
  {
   "cell_type": "code",
   "execution_count": 11,
   "metadata": {},
   "outputs": [
    {
     "data": {
      "text/html": [
       "<table>\n",
       "<caption>A tibble: 2 × 3</caption>\n",
       "<thead>\n",
       "\t<tr><th scope=col>.metric</th><th scope=col>.estimator</th><th scope=col>.estimate</th></tr>\n",
       "\t<tr><th scope=col>&lt;chr&gt;</th><th scope=col>&lt;chr&gt;</th><th scope=col>&lt;dbl&gt;</th></tr>\n",
       "</thead>\n",
       "<tbody>\n",
       "\t<tr><td>accuracy</td><td>binary</td><td>0.7625418</td></tr>\n",
       "\t<tr><td>kap     </td><td>binary</td><td>0.5251102</td></tr>\n",
       "</tbody>\n",
       "</table>\n"
      ],
      "text/latex": [
       "A tibble: 2 × 3\n",
       "\\begin{tabular}{lll}\n",
       " .metric & .estimator & .estimate\\\\\n",
       " <chr> & <chr> & <dbl>\\\\\n",
       "\\hline\n",
       "\t accuracy & binary & 0.7625418\\\\\n",
       "\t kap      & binary & 0.5251102\\\\\n",
       "\\end{tabular}\n"
      ],
      "text/markdown": [
       "\n",
       "A tibble: 2 × 3\n",
       "\n",
       "| .metric &lt;chr&gt; | .estimator &lt;chr&gt; | .estimate &lt;dbl&gt; |\n",
       "|---|---|---|\n",
       "| accuracy | binary | 0.7625418 |\n",
       "| kap      | binary | 0.5251102 |\n",
       "\n"
      ],
      "text/plain": [
       "  .metric  .estimator .estimate\n",
       "1 accuracy binary     0.7625418\n",
       "2 kap      binary     0.5251102"
      ]
     },
     "metadata": {},
     "output_type": "display_data"
    }
   ],
   "source": [
    "#test the model\n",
    "artworks_test_predictions <- predict(artworks_fit , artworks_testing) %>%\n",
    "      bind_cols(artworks_testing)\n",
    "\n",
    "#assessing accuracy when k=3\n",
    "artworks_prediction_accuracy <- artworks_test_predictions %>%\n",
    "        metrics(truth = Gender, estimate = .pred_class)    \n",
    "artworks_prediction_accuracy"
   ]
  },
  {
   "cell_type": "markdown",
   "metadata": {},
   "source": [
    "When K=3, the model predicts the Gender of the artist with 76.3% accuracy. "
   ]
  },
  {
   "cell_type": "markdown",
   "metadata": {},
   "source": [
    "### Cross-Validation\n",
    "The next step is to tune the model using cross-validation to find the best K."
   ]
  },
  {
   "cell_type": "code",
   "execution_count": 12,
   "metadata": {},
   "outputs": [
    {
     "data": {
      "text/html": [
       "<table>\n",
       "<caption>A tibble: 2 × 5</caption>\n",
       "<thead>\n",
       "\t<tr><th scope=col>.metric</th><th scope=col>.estimator</th><th scope=col>mean</th><th scope=col>n</th><th scope=col>std_err</th></tr>\n",
       "\t<tr><th scope=col>&lt;chr&gt;</th><th scope=col>&lt;chr&gt;</th><th scope=col>&lt;dbl&gt;</th><th scope=col>&lt;int&gt;</th><th scope=col>&lt;dbl&gt;</th></tr>\n",
       "</thead>\n",
       "<tbody>\n",
       "\t<tr><td>accuracy</td><td>binary</td><td>0.5383482</td><td>10</td><td>0.01753156</td></tr>\n",
       "\t<tr><td>roc_auc </td><td>binary</td><td>0.5610232</td><td>10</td><td>0.01723636</td></tr>\n",
       "</tbody>\n",
       "</table>\n"
      ],
      "text/latex": [
       "A tibble: 2 × 5\n",
       "\\begin{tabular}{lllll}\n",
       " .metric & .estimator & mean & n & std\\_err\\\\\n",
       " <chr> & <chr> & <dbl> & <int> & <dbl>\\\\\n",
       "\\hline\n",
       "\t accuracy & binary & 0.5383482 & 10 & 0.01753156\\\\\n",
       "\t roc\\_auc  & binary & 0.5610232 & 10 & 0.01723636\\\\\n",
       "\\end{tabular}\n"
      ],
      "text/markdown": [
       "\n",
       "A tibble: 2 × 5\n",
       "\n",
       "| .metric &lt;chr&gt; | .estimator &lt;chr&gt; | mean &lt;dbl&gt; | n &lt;int&gt; | std_err &lt;dbl&gt; |\n",
       "|---|---|---|---|---|\n",
       "| accuracy | binary | 0.5383482 | 10 | 0.01753156 |\n",
       "| roc_auc  | binary | 0.5610232 | 10 | 0.01723636 |\n",
       "\n"
      ],
      "text/plain": [
       "  .metric  .estimator mean      n  std_err   \n",
       "1 accuracy binary     0.5383482 10 0.01753156\n",
       "2 roc_auc  binary     0.5610232 10 0.01723636"
      ]
     },
     "metadata": {},
     "output_type": "display_data"
    }
   ],
   "source": [
    "#create cross validation using vfold\n",
    "artwork_vfold <- vfold_cv(artworks_both, v = 10, strata = Gender)\n",
    "\n",
    "\n",
    "#perform workflow analysis using fit resamples\n",
    "artworks_resample_fit <- workflow() %>%\n",
    "  add_recipe(artwork_recipe) %>%\n",
    "  add_model(artwork_spec) %>%\n",
    "  fit_resamples(resamples = artwork_vfold)\n",
    "\n",
    "#assess accuracy of the model\n",
    "artworks_metrics <- collect_metrics(artworks_resample_fit)\n",
    "artworks_metrics"
   ]
  },
  {
   "cell_type": "markdown",
   "metadata": {},
   "source": [
    "After collecting the metrics from the cross validation, we can see that on average, the model predicts the correct gender about 54% of the time. Next we use `tune()`, where each parameter in the model can be adjusted rather than given a specific value."
   ]
  },
  {
   "cell_type": "code",
   "execution_count": 13,
   "metadata": {},
   "outputs": [
    {
     "data": {
      "text/plain": [
       "K-Nearest Neighbor Model Specification (classification)\n",
       "\n",
       "Main Arguments:\n",
       "  neighbors = tune()\n",
       "  weight_func = rectangular\n",
       "\n",
       "Computational engine: kknn \n"
      ]
     },
     "metadata": {},
     "output_type": "display_data"
    }
   ],
   "source": [
    "#create new model specification using tune() argument\n",
    "set.seed(1234)\n",
    "artworks_tune <- nearest_neighbor(weight_func = \"rectangular\", neighbors = tune()) %>%\n",
    "  set_engine(\"kknn\") %>%\n",
    "  set_mode(\"classification\")\n",
    "artworks_tune"
   ]
  },
  {
   "cell_type": "code",
   "execution_count": 19,
   "metadata": {},
   "outputs": [
    {
     "data": {
      "text/html": [
       "<table>\n",
       "<caption>A tibble: 20 × 7</caption>\n",
       "<thead>\n",
       "\t<tr><th scope=col>neighbors</th><th scope=col>.metric</th><th scope=col>.estimator</th><th scope=col>mean</th><th scope=col>n</th><th scope=col>std_err</th><th scope=col>.config</th></tr>\n",
       "\t<tr><th scope=col>&lt;int&gt;</th><th scope=col>&lt;chr&gt;</th><th scope=col>&lt;chr&gt;</th><th scope=col>&lt;dbl&gt;</th><th scope=col>&lt;int&gt;</th><th scope=col>&lt;dbl&gt;</th><th scope=col>&lt;chr&gt;</th></tr>\n",
       "</thead>\n",
       "<tbody>\n",
       "\t<tr><td> 2</td><td>accuracy</td><td>binary</td><td>0.5466396</td><td>10</td><td>0.01447155</td><td>Model01</td></tr>\n",
       "\t<tr><td> 2</td><td>roc_auc </td><td>binary</td><td>0.5587154</td><td>10</td><td>0.01496055</td><td>Model01</td></tr>\n",
       "\t<tr><td> 3</td><td>accuracy</td><td>binary</td><td>0.5383482</td><td>10</td><td>0.01753156</td><td>Model02</td></tr>\n",
       "\t<tr><td> 3</td><td>roc_auc </td><td>binary</td><td>0.5610232</td><td>10</td><td>0.01723636</td><td>Model02</td></tr>\n",
       "\t<tr><td> 4</td><td>accuracy</td><td>binary</td><td>0.5375149</td><td>10</td><td>0.01779592</td><td>Model03</td></tr>\n",
       "\t<tr><td> 4</td><td>roc_auc </td><td>binary</td><td>0.5741759</td><td>10</td><td>0.01686168</td><td>Model03</td></tr>\n",
       "\t<tr><td> 5</td><td>accuracy</td><td>binary</td><td>0.5583068</td><td>10</td><td>0.01428852</td><td>Model04</td></tr>\n",
       "\t<tr><td> 5</td><td>roc_auc </td><td>binary</td><td>0.5663772</td><td>10</td><td>0.01580537</td><td>Model04</td></tr>\n",
       "\t<tr><td> 7</td><td>accuracy</td><td>binary</td><td>0.5416536</td><td>10</td><td>0.01358501</td><td>Model05</td></tr>\n",
       "\t<tr><td> 7</td><td>roc_auc </td><td>binary</td><td>0.5562314</td><td>10</td><td>0.01709706</td><td>Model05</td></tr>\n",
       "\t<tr><td> 9</td><td>accuracy</td><td>binary</td><td>0.5399655</td><td>10</td><td>0.01639049</td><td>Model06</td></tr>\n",
       "\t<tr><td> 9</td><td>roc_auc </td><td>binary</td><td>0.5517484</td><td>10</td><td>0.01758295</td><td>Model06</td></tr>\n",
       "\t<tr><td>10</td><td>accuracy</td><td>binary</td><td>0.5399655</td><td>10</td><td>0.01639049</td><td>Model07</td></tr>\n",
       "\t<tr><td>10</td><td>roc_auc </td><td>binary</td><td>0.5456115</td><td>10</td><td>0.01621672</td><td>Model07</td></tr>\n",
       "\t<tr><td>12</td><td>accuracy</td><td>binary</td><td>0.5150069</td><td>10</td><td>0.01260971</td><td>Model08</td></tr>\n",
       "\t<tr><td>12</td><td>roc_auc </td><td>binary</td><td>0.5355555</td><td>10</td><td>0.01529679</td><td>Model08</td></tr>\n",
       "\t<tr><td>13</td><td>accuracy</td><td>binary</td><td>0.5183475</td><td>10</td><td>0.01364211</td><td>Model09</td></tr>\n",
       "\t<tr><td>13</td><td>roc_auc </td><td>binary</td><td>0.5307572</td><td>10</td><td>0.01700973</td><td>Model09</td></tr>\n",
       "\t<tr><td>14</td><td>accuracy</td><td>binary</td><td>0.5208475</td><td>10</td><td>0.01291247</td><td>Model10</td></tr>\n",
       "\t<tr><td>14</td><td>roc_auc </td><td>binary</td><td>0.5256381</td><td>10</td><td>0.01655506</td><td>Model10</td></tr>\n",
       "</tbody>\n",
       "</table>\n"
      ],
      "text/latex": [
       "A tibble: 20 × 7\n",
       "\\begin{tabular}{lllllll}\n",
       " neighbors & .metric & .estimator & mean & n & std\\_err & .config\\\\\n",
       " <int> & <chr> & <chr> & <dbl> & <int> & <dbl> & <chr>\\\\\n",
       "\\hline\n",
       "\t  2 & accuracy & binary & 0.5466396 & 10 & 0.01447155 & Model01\\\\\n",
       "\t  2 & roc\\_auc  & binary & 0.5587154 & 10 & 0.01496055 & Model01\\\\\n",
       "\t  3 & accuracy & binary & 0.5383482 & 10 & 0.01753156 & Model02\\\\\n",
       "\t  3 & roc\\_auc  & binary & 0.5610232 & 10 & 0.01723636 & Model02\\\\\n",
       "\t  4 & accuracy & binary & 0.5375149 & 10 & 0.01779592 & Model03\\\\\n",
       "\t  4 & roc\\_auc  & binary & 0.5741759 & 10 & 0.01686168 & Model03\\\\\n",
       "\t  5 & accuracy & binary & 0.5583068 & 10 & 0.01428852 & Model04\\\\\n",
       "\t  5 & roc\\_auc  & binary & 0.5663772 & 10 & 0.01580537 & Model04\\\\\n",
       "\t  7 & accuracy & binary & 0.5416536 & 10 & 0.01358501 & Model05\\\\\n",
       "\t  7 & roc\\_auc  & binary & 0.5562314 & 10 & 0.01709706 & Model05\\\\\n",
       "\t  9 & accuracy & binary & 0.5399655 & 10 & 0.01639049 & Model06\\\\\n",
       "\t  9 & roc\\_auc  & binary & 0.5517484 & 10 & 0.01758295 & Model06\\\\\n",
       "\t 10 & accuracy & binary & 0.5399655 & 10 & 0.01639049 & Model07\\\\\n",
       "\t 10 & roc\\_auc  & binary & 0.5456115 & 10 & 0.01621672 & Model07\\\\\n",
       "\t 12 & accuracy & binary & 0.5150069 & 10 & 0.01260971 & Model08\\\\\n",
       "\t 12 & roc\\_auc  & binary & 0.5355555 & 10 & 0.01529679 & Model08\\\\\n",
       "\t 13 & accuracy & binary & 0.5183475 & 10 & 0.01364211 & Model09\\\\\n",
       "\t 13 & roc\\_auc  & binary & 0.5307572 & 10 & 0.01700973 & Model09\\\\\n",
       "\t 14 & accuracy & binary & 0.5208475 & 10 & 0.01291247 & Model10\\\\\n",
       "\t 14 & roc\\_auc  & binary & 0.5256381 & 10 & 0.01655506 & Model10\\\\\n",
       "\\end{tabular}\n"
      ],
      "text/markdown": [
       "\n",
       "A tibble: 20 × 7\n",
       "\n",
       "| neighbors &lt;int&gt; | .metric &lt;chr&gt; | .estimator &lt;chr&gt; | mean &lt;dbl&gt; | n &lt;int&gt; | std_err &lt;dbl&gt; | .config &lt;chr&gt; |\n",
       "|---|---|---|---|---|---|---|\n",
       "|  2 | accuracy | binary | 0.5466396 | 10 | 0.01447155 | Model01 |\n",
       "|  2 | roc_auc  | binary | 0.5587154 | 10 | 0.01496055 | Model01 |\n",
       "|  3 | accuracy | binary | 0.5383482 | 10 | 0.01753156 | Model02 |\n",
       "|  3 | roc_auc  | binary | 0.5610232 | 10 | 0.01723636 | Model02 |\n",
       "|  4 | accuracy | binary | 0.5375149 | 10 | 0.01779592 | Model03 |\n",
       "|  4 | roc_auc  | binary | 0.5741759 | 10 | 0.01686168 | Model03 |\n",
       "|  5 | accuracy | binary | 0.5583068 | 10 | 0.01428852 | Model04 |\n",
       "|  5 | roc_auc  | binary | 0.5663772 | 10 | 0.01580537 | Model04 |\n",
       "|  7 | accuracy | binary | 0.5416536 | 10 | 0.01358501 | Model05 |\n",
       "|  7 | roc_auc  | binary | 0.5562314 | 10 | 0.01709706 | Model05 |\n",
       "|  9 | accuracy | binary | 0.5399655 | 10 | 0.01639049 | Model06 |\n",
       "|  9 | roc_auc  | binary | 0.5517484 | 10 | 0.01758295 | Model06 |\n",
       "| 10 | accuracy | binary | 0.5399655 | 10 | 0.01639049 | Model07 |\n",
       "| 10 | roc_auc  | binary | 0.5456115 | 10 | 0.01621672 | Model07 |\n",
       "| 12 | accuracy | binary | 0.5150069 | 10 | 0.01260971 | Model08 |\n",
       "| 12 | roc_auc  | binary | 0.5355555 | 10 | 0.01529679 | Model08 |\n",
       "| 13 | accuracy | binary | 0.5183475 | 10 | 0.01364211 | Model09 |\n",
       "| 13 | roc_auc  | binary | 0.5307572 | 10 | 0.01700973 | Model09 |\n",
       "| 14 | accuracy | binary | 0.5208475 | 10 | 0.01291247 | Model10 |\n",
       "| 14 | roc_auc  | binary | 0.5256381 | 10 | 0.01655506 | Model10 |\n",
       "\n"
      ],
      "text/plain": [
       "   neighbors .metric  .estimator mean      n  std_err    .config\n",
       "1   2        accuracy binary     0.5466396 10 0.01447155 Model01\n",
       "2   2        roc_auc  binary     0.5587154 10 0.01496055 Model01\n",
       "3   3        accuracy binary     0.5383482 10 0.01753156 Model02\n",
       "4   3        roc_auc  binary     0.5610232 10 0.01723636 Model02\n",
       "5   4        accuracy binary     0.5375149 10 0.01779592 Model03\n",
       "6   4        roc_auc  binary     0.5741759 10 0.01686168 Model03\n",
       "7   5        accuracy binary     0.5583068 10 0.01428852 Model04\n",
       "8   5        roc_auc  binary     0.5663772 10 0.01580537 Model04\n",
       "9   7        accuracy binary     0.5416536 10 0.01358501 Model05\n",
       "10  7        roc_auc  binary     0.5562314 10 0.01709706 Model05\n",
       "11  9        accuracy binary     0.5399655 10 0.01639049 Model06\n",
       "12  9        roc_auc  binary     0.5517484 10 0.01758295 Model06\n",
       "13 10        accuracy binary     0.5399655 10 0.01639049 Model07\n",
       "14 10        roc_auc  binary     0.5456115 10 0.01621672 Model07\n",
       "15 12        accuracy binary     0.5150069 10 0.01260971 Model08\n",
       "16 12        roc_auc  binary     0.5355555 10 0.01529679 Model08\n",
       "17 13        accuracy binary     0.5183475 10 0.01364211 Model09\n",
       "18 13        roc_auc  binary     0.5307572 10 0.01700973 Model09\n",
       "19 14        accuracy binary     0.5208475 10 0.01291247 Model10\n",
       "20 14        roc_auc  binary     0.5256381 10 0.01655506 Model10"
      ]
     },
     "metadata": {},
     "output_type": "display_data"
    }
   ],
   "source": [
    "#obtain the results from the new model\n",
    "set.seed(1234)\n",
    "artworks_tune_results <- workflow() %>%\n",
    "  add_recipe(artwork_recipe) %>%\n",
    "  add_model(artworks_tune) %>%\n",
    "  tune_grid(resamples = artwork_vfold, grid = 10) %>%\n",
    "  collect_metrics()\n",
    "artworks_tune_results\n"
   ]
  },
  {
   "cell_type": "markdown",
   "metadata": {},
   "source": [
    "Next, we create a plot of all the Ks and their respective accuracies to find the best value for K."
   ]
  },
  {
   "cell_type": "code",
   "execution_count": 2,
   "metadata": {},
   "outputs": [
    {
     "ename": "ERROR",
     "evalue": "Error in artworks_tune_results %>% filter(.metric == \"accuracy\"): could not find function \"%>%\"\n",
     "output_type": "error",
     "traceback": [
      "Error in artworks_tune_results %>% filter(.metric == \"accuracy\"): could not find function \"%>%\"\nTraceback:\n"
     ]
    }
   ],
   "source": [
    "#view results\n",
    "accuracies <- artworks_tune_results %>% \n",
    "      filter(.metric == 'accuracy')\n",
    "set.seed(1234)\n",
    "#plot the different accuracies of K\n",
    "options(repr.plot.height = 9, repr.plot.width = 12)\n",
    "accuracy_versus_k <- ggplot(accuracies, aes(x = neighbors, y = mean))+\n",
    "      geom_point() +\n",
    "      geom_line() +\n",
    "      labs(x = \"Neighbors\", y = \"Accuracy Estimate\") +\n",
    "      ggtitle('Figure 3. Accuracies for each K') +\n",
    "      scale_x_continuous(breaks = seq(0, 14, by = 1)) +  # adjusting the x-axis\n",
    "      scale_y_continuous(limits = c(0.4, 1.0)) + # adjusting the y-axis\n",
    "      theme(text = element_text(size = 20))\n",
    "accuracy_versus_k"
   ]
  },
  {
   "cell_type": "markdown",
   "metadata": {},
   "source": [
    "Accuracy appears unaffected by values of K. The model has an accuracy of 55% (low) when using the training data set. The accuracy appears unaffected by the number of nearest neighbours which suggests that there is no correlation between artwork size and gender and our hypothesis can therefore be rejected from this result in terms of this particular dataset. However, from the plot, we can see that the highest accuracy for a given K is when K equals 5. Therefore for our final prediction, we use K = 5."
   ]
  },
  {
   "cell_type": "markdown",
   "metadata": {},
   "source": [
    "### Final Prediction"
   ]
  },
  {
   "cell_type": "code",
   "execution_count": 21,
   "metadata": {},
   "outputs": [
    {
     "data": {
      "text/html": [
       "<table>\n",
       "<caption>A tibble: 2 × 3</caption>\n",
       "<thead>\n",
       "\t<tr><th scope=col>.metric</th><th scope=col>.estimator</th><th scope=col>.estimate</th></tr>\n",
       "\t<tr><th scope=col>&lt;chr&gt;</th><th scope=col>&lt;chr&gt;</th><th scope=col>&lt;dbl&gt;</th></tr>\n",
       "</thead>\n",
       "<tbody>\n",
       "\t<tr><td>accuracy</td><td>binary</td><td>0.6923077</td></tr>\n",
       "\t<tr><td>kap     </td><td>binary</td><td>0.3840297</td></tr>\n",
       "</tbody>\n",
       "</table>\n"
      ],
      "text/latex": [
       "A tibble: 2 × 3\n",
       "\\begin{tabular}{lll}\n",
       " .metric & .estimator & .estimate\\\\\n",
       " <chr> & <chr> & <dbl>\\\\\n",
       "\\hline\n",
       "\t accuracy & binary & 0.6923077\\\\\n",
       "\t kap      & binary & 0.3840297\\\\\n",
       "\\end{tabular}\n"
      ],
      "text/markdown": [
       "\n",
       "A tibble: 2 × 3\n",
       "\n",
       "| .metric &lt;chr&gt; | .estimator &lt;chr&gt; | .estimate &lt;dbl&gt; |\n",
       "|---|---|---|\n",
       "| accuracy | binary | 0.6923077 |\n",
       "| kap      | binary | 0.3840297 |\n",
       "\n"
      ],
      "text/plain": [
       "  .metric  .estimator .estimate\n",
       "1 accuracy binary     0.6923077\n",
       "2 kap      binary     0.3840297"
      ]
     },
     "metadata": {},
     "output_type": "display_data"
    },
    {
     "data": {
      "text/plain": [
       "          Truth\n",
       "Prediction (Female) (Male)\n",
       "  (Female)       98     43\n",
       "  (Male)         49    109"
      ]
     },
     "metadata": {},
     "output_type": "display_data"
    }
   ],
   "source": [
    "set.seed(1234)\n",
    "\n",
    "# artworks_best_spec\n",
    "artworks_best_spec <- nearest_neighbor(weight_func = \"rectangular\", neighbors = 5) %>%\n",
    "                      set_engine(\"kknn\") %>%\n",
    "                      set_mode(\"classification\")\n",
    "\n",
    "# artworks_best_fit\n",
    "artworks_best_fit <- workflow() %>%\n",
    "                     add_recipe(artwork_recipe) %>%\n",
    "                     add_model(artworks_best_spec) %>%\n",
    "                     fit(artworks_both)\n",
    "\n",
    "# final prediction\n",
    "artworks_predictions <- predict(artworks_best_fit, artworks_testing) %>%\n",
    "                        bind_cols(artworks_testing)\n",
    "\n",
    "artworks_new_metrics <- artworks_predictions %>%\n",
    "                        metrics(truth = Gender, estimate = .pred_class)   \n",
    "artworks_new_metrics\n",
    "\n",
    "#create confusion matrix\n",
    "artworks_conf_mat <- artworks_predictions %>%\n",
    "                     conf_mat(truth = Gender, estimate = .pred_class)\n",
    "artworks_conf_mat"
   ]
  },
  {
   "cell_type": "markdown",
   "metadata": {},
   "source": [
    "From our final prediction, we get an accuracy of ~70% when we use the best K of 5. The model made 208 correct predictions, misclassified Male artwork as Female artwork 42 times, and misclassified Female artwork as Male artwork 49 times. "
   ]
  },
  {
   "cell_type": "markdown",
   "metadata": {},
   "source": [
    "## Conclusion \n",
    "\n",
    "Our group had expected to find an accuracy rate that was higher than 70% for our predictor. However, an interesting note is that the model performed much better on the test data than the training data (about 15 percentage points), even though both are not particularly accurate. This may be because there is no significant difference in height and width of artworks between genders, leaving a lot of the predictions up to chance.\n",
    "\n",
    "Additional questions that arise from this result are: \n",
    "1. Is there a pattern of artwork sizes by gender that change over time? \n",
    "\n",
    "For example, as socio-economic inequalties could be more present the further we go back in time.\n",
    "\n",
    "2. Might the inclusion of additional predictors (ie, artwork Weight) have changed the results our analysis? \n",
    "\n",
    "Future explorations could use more complex parsing methods (outside the scope of this course) to interpret the metadata in the “Medium” column to better filter the descriptions of particular types of works that are better captured by rectangular height and width measurements (ie, the height and width measurement of a painting is more meaningful than the height and width of audio-based art installation for example). \n",
    "\n",
    "As mentioned above, the impact of this analysis could produce rich insights into the socio-economic inequalties present the world of art."
   ]
  },
  {
   "cell_type": "code",
   "execution_count": null,
   "metadata": {},
   "outputs": [],
   "source": []
  }
 ],
 "metadata": {
  "kernelspec": {
   "display_name": "R",
   "language": "R",
   "name": "ir"
  },
  "language_info": {
   "codemirror_mode": "r",
   "file_extension": ".r",
   "mimetype": "text/x-r-source",
   "name": "R",
   "pygments_lexer": "r",
   "version": "4.0.0"
  }
 },
 "nbformat": 4,
 "nbformat_minor": 4
}
